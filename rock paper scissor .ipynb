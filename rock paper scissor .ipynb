{
 "cells": [
  {
   "cell_type": "code",
   "execution_count": 7,
   "id": "37a62ca9",
   "metadata": {},
   "outputs": [
    {
     "name": "stdout",
     "output_type": "stream",
     "text": [
      "enter the person1rock\n",
      "enter the person2scissor\n",
      "p1 wins\n"
     ]
    }
   ],
   "source": [
    "p1=input(\"enter the person1\")\n",
    "p2=input(\"enter the person2\")\n",
    "if p1==\"rock\":\n",
    "    if p2==\"scissor\":\n",
    "        print(\"p1 wins\")\n",
    "    elif p2==\"paper\":\n",
    "        print(\"p2 wins\")\n",
    "    elif p2==\"rock\":\n",
    "        print(\"match tie\")\n",
    "elif p1==\"scissor\":\n",
    "    if p2==\"scissor\":\n",
    "        print(\"match tie\")\n",
    "    elif p2==\"paper\":\n",
    "        print(\"p1 wins\")\n",
    "    elif p2==\"rock\":\n",
    "        print(\"p2 wins\")\n",
    "elif p1==\"paper\":\n",
    "    if p2==\"scissor\":\n",
    "        print(\"p2 wins\")\n",
    "    elif p2==\"paper\":\n",
    "        print(\"match tie\")\n",
    "    elif p2==\"rock\":\n",
    "        print(\"p1 wins\")\n",
    "else:\n",
    "    print(\"ivalid input\")\n",
    "    \n",
    "        \n",
    "\n",
    "    \n",
    "    \n"
   ]
  },
  {
   "cell_type": "code",
   "execution_count": null,
   "id": "8509293e",
   "metadata": {},
   "outputs": [],
   "source": []
  }
 ],
 "metadata": {
  "kernelspec": {
   "display_name": "Python 3 (ipykernel)",
   "language": "python",
   "name": "python3"
  },
  "language_info": {
   "codemirror_mode": {
    "name": "ipython",
    "version": 3
   },
   "file_extension": ".py",
   "mimetype": "text/x-python",
   "name": "python",
   "nbconvert_exporter": "python",
   "pygments_lexer": "ipython3",
   "version": "3.9.13"
  }
 },
 "nbformat": 4,
 "nbformat_minor": 5
}
