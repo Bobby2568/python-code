{
 "cells": [
  {
   "cell_type": "code",
   "execution_count": 10,
   "id": "22b0cc5d",
   "metadata": {},
   "outputs": [
    {
     "name": "stdout",
     "output_type": "stream",
     "text": [
      " * * *\n",
      "*      *\n",
      "*      *  *\n",
      " * * * * *\n"
     ]
    }
   ],
   "source": [
    "a=4\n",
    "while a<=10:\n",
    "    if a==4:\n",
    "        print(\" * * *\")\n",
    "    elif a==5:\n",
    "        print(\"*      *\")\n",
    "    elif a==6:\n",
    "        print(\"*      *  *\")\n",
    "    elif a==7:\n",
    "        print(\" * * * * *\")\n",
    "    a=a+1"
   ]
  },
  {
   "cell_type": "code",
   "execution_count": 11,
   "id": "d84e1dd9",
   "metadata": {},
   "outputs": [
    {
     "name": "stdout",
     "output_type": "stream",
     "text": [
      "*\n",
      "*\n",
      "* * *\n",
      "*    * \n",
      "* * *\n"
     ]
    }
   ],
   "source": [
    "a=4\n",
    "while a<=10:\n",
    "    if a==4:\n",
    "        print(\"*\")\n",
    "    elif a==5:\n",
    "        print(\"*\")\n",
    "    elif a==6:\n",
    "        print(\"* * *\")\n",
    "    elif a==7:\n",
    "        print(\"*    * \")\n",
    "    elif a==8:\n",
    "        print(\"* * *\")    \n",
    "    a=a+1"
   ]
  },
  {
   "cell_type": "code",
   "execution_count": 12,
   "id": "f970bd9e",
   "metadata": {},
   "outputs": [
    {
     "name": "stdout",
     "output_type": "stream",
     "text": [
      " * * *\n",
      "*\n",
      " * * *\n"
     ]
    }
   ],
   "source": [
    "a=4\n",
    "while a<=10:\n",
    "    if a==4:\n",
    "        print(\" * * *\")\n",
    "    elif a==5:\n",
    "        print(\"*\")\n",
    "    elif a==6:\n",
    "        print(\" * * *\")\n",
    "    a=a+1"
   ]
  },
  {
   "cell_type": "code",
   "execution_count": 14,
   "id": "803efd3c",
   "metadata": {},
   "outputs": [
    {
     "name": "stdout",
     "output_type": "stream",
     "text": [
      "       *\n",
      "       *\n",
      "   * * *\n",
      "  *    *\n",
      "   * * *\n"
     ]
    }
   ],
   "source": [
    "a=4\n",
    "while a<=10:\n",
    "    if a==4:\n",
    "        print(\"       *\")\n",
    "    elif a==5:\n",
    "        print(\"       *\")\n",
    "    elif a==6:\n",
    "        print(\"   * * *\")\n",
    "    elif a==7:\n",
    "        print(\"  *    *\")\n",
    "    elif a==8:\n",
    "        print(\"   * * *\")\n",
    "    a=a+1"
   ]
  },
  {
   "cell_type": "code",
   "execution_count": 16,
   "id": "749d45fa",
   "metadata": {},
   "outputs": [
    {
     "name": "stdout",
     "output_type": "stream",
     "text": [
      " * * *\n",
      "* * * *\n",
      "*\n",
      " * * *\n"
     ]
    }
   ],
   "source": [
    "a=4\n",
    "while a<=10:\n",
    "    if a==4:\n",
    "        print(\" * * *\")\n",
    "    elif a==5:\n",
    "        print(\"* * * *\")\n",
    "    elif a==6:\n",
    "        print(\"*\")\n",
    "    elif a==7:\n",
    "        print(\" * * *\")\n",
    "    a=a+1"
   ]
  },
  {
   "cell_type": "code",
   "execution_count": 24,
   "id": "8cd33691",
   "metadata": {},
   "outputs": [
    {
     "name": "stdout",
     "output_type": "stream",
     "text": [
      " * * *\n",
      " *    *\n",
      " *  *\n",
      " *\n",
      "** * * \n",
      " *\n"
     ]
    }
   ],
   "source": [
    "a=4\n",
    "while a<=10:\n",
    "    if a==4:\n",
    "        print(\" * * *\")\n",
    "    elif a==5:\n",
    "        print(\" *    *\")\n",
    "    elif a==6:\n",
    "        print(\" *  *\")\n",
    "    elif a==7:\n",
    "        print(\" *\")\n",
    "    elif a==8:\n",
    "        print(\"** * * \")\n",
    "    elif a==9:\n",
    "        print(\" *\")\n",
    "    a=a+1"
   ]
  },
  {
   "cell_type": "code",
   "execution_count": 34,
   "id": "ce133c49",
   "metadata": {},
   "outputs": [
    {
     "name": "stdout",
     "output_type": "stream",
     "text": [
      "  * * *\n",
      " *     *\n",
      "  * * *\n",
      "      *\n",
      "  *   * \n",
      "   *** \n"
     ]
    }
   ],
   "source": [
    "a=4\n",
    "while a<=10:\n",
    "    if a==4:\n",
    "        print(\"  * * *\")\n",
    "    elif a==5:\n",
    "        print(\" *     *\")\n",
    "    elif a==6:\n",
    "        print(\"  * * *\")\n",
    "    elif a==7:\n",
    "        print(\"      *\")\n",
    "    elif a==8:\n",
    "        print(\"  *   * \")\n",
    "    elif a==9:\n",
    "        print(\"   *** \")\n",
    "    a=a+1"
   ]
  },
  {
   "cell_type": "code",
   "execution_count": 39,
   "id": "bf0b4c75",
   "metadata": {},
   "outputs": [
    {
     "name": "stdout",
     "output_type": "stream",
     "text": [
      " *\n",
      " *\n",
      " *\n",
      " * * *\n",
      " *    *\n",
      " *    *\n"
     ]
    }
   ],
   "source": [
    "a=4\n",
    "while a<=10:\n",
    "    if a==4:\n",
    "        print(\" *\")\n",
    "    elif a==5:\n",
    "        print(\" *\")\n",
    "    elif a==6:\n",
    "        print(\" *\")\n",
    "    elif a==7:\n",
    "        print(\" * * *\")\n",
    "    elif a==8:\n",
    "        print(\" *    *\")\n",
    "    elif a==9:\n",
    "        print(\" *    *\")\n",
    "    a=a+1"
   ]
  },
  {
   "cell_type": "code",
   "execution_count": 41,
   "id": "e590df50",
   "metadata": {},
   "outputs": [
    {
     "name": "stdout",
     "output_type": "stream",
     "text": [
      " *\n",
      "\n",
      " *\n",
      " *\n",
      " *\n",
      " *\n"
     ]
    }
   ],
   "source": [
    "a=4\n",
    "while a<=10:\n",
    "    if a==4:\n",
    "        print(\" *\")\n",
    "    elif a==5:\n",
    "        print(\"\")\n",
    "    elif a==6:\n",
    "        print(\" *\")\n",
    "    elif a==7:\n",
    "        print(\" *\")\n",
    "    elif a==8:\n",
    "        print(\" *\")\n",
    "    elif a==9:\n",
    "        print(\" *\")\n",
    "    a=a+1"
   ]
  },
  {
   "cell_type": "code",
   "execution_count": 48,
   "id": "6be3eb76",
   "metadata": {},
   "outputs": [
    {
     "name": "stdout",
     "output_type": "stream",
     "text": [
      "     * \n",
      "     \n",
      "     *\n",
      "     *\n",
      " *   *\n",
      "  * *\n"
     ]
    }
   ],
   "source": [
    "a=4\n",
    "while a<=10:\n",
    "    if a==4:\n",
    "        print(\"     * \")\n",
    "    elif a==5:\n",
    "        print(\"     \")\n",
    "    elif a==6:\n",
    "        print(\"     *\")\n",
    "    elif a==7:\n",
    "        print(\"     *\")\n",
    "    elif a==8:\n",
    "        print(\" *   *\")\n",
    "    elif a==9:\n",
    "        print(\"  * *\")\n",
    "    a=a+1"
   ]
  },
  {
   "cell_type": "code",
   "execution_count": 51,
   "id": "fdb7fddd",
   "metadata": {},
   "outputs": [
    {
     "name": "stdout",
     "output_type": "stream",
     "text": [
      " \n",
      " *\n",
      " *\n",
      " *   *\n",
      " * *  \n",
      " *   *\n"
     ]
    }
   ],
   "source": [
    "a=4\n",
    "while a<=10:\n",
    "    if a==4:\n",
    "        print(\" \")\n",
    "    elif a==5:\n",
    "        print(\" *\")\n",
    "    elif a==6:\n",
    "        print(\" *\")\n",
    "    elif a==7:\n",
    "        print(\" *   *\")\n",
    "    elif a==8:\n",
    "        print(\" * *  \")\n",
    "    elif a==9:\n",
    "        print(\" *   *\")\n",
    "    a=a+1"
   ]
  },
  {
   "cell_type": "code",
   "execution_count": 52,
   "id": "1c1d99e6",
   "metadata": {},
   "outputs": [
    {
     "name": "stdout",
     "output_type": "stream",
     "text": [
      " \n",
      " *\n",
      " *\n",
      " *\n",
      " * \n",
      " *\n"
     ]
    }
   ],
   "source": [
    "a=4\n",
    "while a<=10:\n",
    "    if a==4:\n",
    "        print(\" \")\n",
    "    elif a==5:\n",
    "        print(\" *\")\n",
    "    elif a==6:\n",
    "        print(\" *\")\n",
    "    elif a==7:\n",
    "        print(\" *\")\n",
    "    elif a==8:\n",
    "        print(\" * \")\n",
    "    elif a==9:\n",
    "        print(\" *\")\n",
    "    a=a+1"
   ]
  },
  {
   "cell_type": "code",
   "execution_count": 59,
   "id": "1f546180",
   "metadata": {},
   "outputs": [
    {
     "name": "stdout",
     "output_type": "stream",
     "text": [
      "*\n",
      "   * * * * *\n",
      "  *    *    *\n",
      "  *    *    *\n",
      " \n",
      "\n"
     ]
    }
   ],
   "source": [
    "a=4\n",
    "while a<=10:\n",
    "    if a==4:\n",
    "        print(\"*\")\n",
    "    elif a==5:\n",
    "        print(\"   * * * * *\")\n",
    "    elif a==6:\n",
    "        print(\"  *    *    *\")\n",
    "    elif a==7:\n",
    "        print(\"  *    *    *\")\n",
    "    elif a==8:\n",
    "        print(\" \")\n",
    "    elif a==9:\n",
    "        print(\"\")\n",
    "    a=a+1"
   ]
  },
  {
   "cell_type": "code",
   "execution_count": 64,
   "id": "6d40fe19",
   "metadata": {},
   "outputs": [
    {
     "name": "stdout",
     "output_type": "stream",
     "text": [
      "* \n",
      " * * * \n",
      " *    *\n",
      " *    *\n",
      " \n",
      "\n"
     ]
    }
   ],
   "source": [
    "a=4\n",
    "while a<=10:\n",
    "    if a==4:\n",
    "        print(\"* \")\n",
    "    elif a==5:\n",
    "        print(\" * * * \")\n",
    "    elif a==6:\n",
    "        print(\" *    *\")\n",
    "    elif a==7:\n",
    "        print(\" *    *\")\n",
    "    elif a==8:\n",
    "        print(\" \")\n",
    "    elif a==9:\n",
    "        print(\"\")\n",
    "    a=a+1"
   ]
  },
  {
   "cell_type": "code",
   "execution_count": 68,
   "id": "77e9b66c",
   "metadata": {},
   "outputs": [
    {
     "name": "stdout",
     "output_type": "stream",
     "text": [
      "   * * * \n",
      " *       * \n",
      "   * * *\n",
      " \n",
      " \n",
      "\n"
     ]
    }
   ],
   "source": [
    "a=4\n",
    "while a<=10:\n",
    "    if a==4:\n",
    "        print(\"   * * * \")\n",
    "    elif a==5:\n",
    "        print(\" *       * \")\n",
    "    elif a==6:\n",
    "        print(\"   * * *\")\n",
    "    elif a==7:\n",
    "        print(\" \")\n",
    "    elif a==8:\n",
    "        print(\" \")\n",
    "    elif a==9:\n",
    "        print(\"\")\n",
    "    a=a+1"
   ]
  },
  {
   "cell_type": "code",
   "execution_count": 89,
   "id": "3d4b7dac",
   "metadata": {},
   "outputs": [
    {
     "name": "stdout",
     "output_type": "stream",
     "text": [
      "*\n",
      "* * *  \n",
      "*     * \n",
      "* * * \n",
      "*\n",
      "*\n",
      "\n"
     ]
    }
   ],
   "source": [
    "a=4\n",
    "while a<=10:\n",
    "    if a==4:\n",
    "        print(\"*\")\n",
    "    elif a==5:\n",
    "        print(\"* * *  \")\n",
    "    elif a==6:\n",
    "        print(\"*     * \")\n",
    "    elif a==7:\n",
    "        print(\"* * * \")\n",
    "    elif a==8:\n",
    "        print(\"*\")\n",
    "    elif a==9:\n",
    "        print(\"*\")\n",
    "    elif a==10:\n",
    "        print(\"\")\n",
    "    a=a+1"
   ]
  },
  {
   "cell_type": "code",
   "execution_count": 85,
   "id": "5ab0c24c",
   "metadata": {},
   "outputs": [
    {
     "name": "stdout",
     "output_type": "stream",
     "text": [
      " * * * \n",
      "*      * \n",
      "  * * *\n",
      "       *\n",
      "       *  *\n",
      "       *\n"
     ]
    }
   ],
   "source": [
    "a=4\n",
    "while a<=10:\n",
    "    if a==4:\n",
    "        print(\" * * * \")\n",
    "    elif a==5:\n",
    "        print(\"*      * \")\n",
    "    elif a==6:\n",
    "        print(\"  * * *\")\n",
    "    elif a==7:\n",
    "        print(\"       *\")\n",
    "    elif a==8:\n",
    "        print(\"       *  *\")\n",
    "    elif a==9:\n",
    "        print(\"       *\")\n",
    "    a=a+1"
   ]
  },
  {
   "cell_type": "code",
   "execution_count": 88,
   "id": "737013b6",
   "metadata": {},
   "outputs": [
    {
     "name": "stdout",
     "output_type": "stream",
     "text": [
      "* * * \n",
      "**   *\n",
      "*    \n",
      "*    \n",
      " \n",
      "\n"
     ]
    }
   ],
   "source": [
    "a=4\n",
    "while a<=10:\n",
    "    if a==4:\n",
    "        print(\"* * * \")\n",
    "    elif a==5:\n",
    "        print(\"**   *\")\n",
    "    elif a==6:\n",
    "        print(\"*    \")\n",
    "    elif a==7:\n",
    "        print(\"*    \")\n",
    "    elif a==8:\n",
    "        print(\" \")\n",
    "    elif a==9:\n",
    "        print(\"\")\n",
    "    a=a+1"
   ]
  },
  {
   "cell_type": "code",
   "execution_count": 98,
   "id": "c0891e62",
   "metadata": {},
   "outputs": [
    {
     "name": "stdout",
     "output_type": "stream",
     "text": [
      " * * * \n",
      "* \n",
      " * * *\n",
      "      *\n",
      " * * *\n",
      "\n"
     ]
    }
   ],
   "source": [
    "a=4\n",
    "while a<=10:\n",
    "    if a==4:\n",
    "        print(\" * * * \")\n",
    "    elif a==5:\n",
    "        print(\"* \")\n",
    "    elif a==6:\n",
    "        print(\" * * *\")\n",
    "    elif a==7:\n",
    "        print(\"      *\")\n",
    "    elif a==8:\n",
    "        print(\" * * *\")\n",
    "    elif a==9:\n",
    "        print(\"\")\n",
    "    a=a+1"
   ]
  },
  {
   "cell_type": "code",
   "execution_count": 109,
   "id": "48db13a0",
   "metadata": {},
   "outputs": [
    {
     "name": "stdout",
     "output_type": "stream",
     "text": [
      "     * \n",
      "     * \n",
      "   * * *\n",
      "     *\n",
      "     *   *\n",
      "      * *  \n"
     ]
    }
   ],
   "source": [
    "a=4\n",
    "while a<=10:\n",
    "    if a==4:\n",
    "        print(\"     * \")\n",
    "    elif a==5:\n",
    "        print(\"     * \")\n",
    "    elif a==6:\n",
    "        print(\"   * * *\")\n",
    "    elif a==7:\n",
    "        print(\"     *\")\n",
    "    elif a==8:\n",
    "        print(\"     *   *\")\n",
    "    elif a==9:\n",
    "        print(\"      * *  \")\n",
    "    a=a+1"
   ]
  },
  {
   "cell_type": "code",
   "execution_count": 111,
   "id": "0c123abb",
   "metadata": {},
   "outputs": [
    {
     "name": "stdout",
     "output_type": "stream",
     "text": [
      "*     * \n",
      "*     *\n",
      "*     *\n",
      " * * * *\n",
      "\n",
      "\n"
     ]
    }
   ],
   "source": [
    "a=4\n",
    "while a<=10:\n",
    "    if a==4:\n",
    "        print(\"*     * \")\n",
    "    elif a==5:\n",
    "        print(\"*     *\")\n",
    "    elif a==6:\n",
    "        print(\"*     *\")\n",
    "    elif a==7:\n",
    "        print(\" * * * *\")\n",
    "    elif a==8:\n",
    "        print(\"\")\n",
    "    elif a==9:\n",
    "        print(\"\")\n",
    "    a=a+1"
   ]
  },
  {
   "cell_type": "code",
   "execution_count": 112,
   "id": "48124112",
   "metadata": {},
   "outputs": [
    {
     "name": "stdout",
     "output_type": "stream",
     "text": [
      "*     *\n",
      " *   * \n",
      "  * *\n",
      "   *\n",
      "\n",
      "\n"
     ]
    }
   ],
   "source": [
    "a=4\n",
    "while a<=10:\n",
    "    if a==4:\n",
    "        print(\"*     *\")\n",
    "    elif a==5:\n",
    "        print(\" *   * \")\n",
    "    elif a==6:\n",
    "        print(\"  * *\")\n",
    "    elif a==7:\n",
    "        print(\"   *\")\n",
    "    elif a==8:\n",
    "        print(\"\")\n",
    "    elif a==9:\n",
    "        print(\"\")\n",
    "    a=a+1"
   ]
  },
  {
   "cell_type": "code",
   "execution_count": 116,
   "id": "7876f1e9",
   "metadata": {},
   "outputs": [
    {
     "name": "stdout",
     "output_type": "stream",
     "text": [
      "*             * \n",
      "*             *\n",
      "*      *      *\n",
      "*     * *     *\n",
      " * * *   * * *\n",
      "\n"
     ]
    }
   ],
   "source": [
    "a=4\n",
    "while a<=10:\n",
    "    if a==4:\n",
    "        print(\"*             * \")\n",
    "    elif a==5:\n",
    "        print(\"*             *\")\n",
    "    elif a==6:\n",
    "        print(\"*      *      *\")\n",
    "    elif a==7:\n",
    "        print(\"*     * *     *\")\n",
    "    elif a==8:\n",
    "        print(\" * * *   * * *\")\n",
    "    elif a==9:\n",
    "        print(\"\")\n",
    "    a=a+1"
   ]
  },
  {
   "cell_type": "code",
   "execution_count": 118,
   "id": "25a291f3",
   "metadata": {},
   "outputs": [
    {
     "name": "stdout",
     "output_type": "stream",
     "text": [
      "*   * \n",
      " * *\n",
      "  * \n",
      " * *\n",
      "*   *\n",
      "\n"
     ]
    }
   ],
   "source": [
    "a=4\n",
    "while a<=10:\n",
    "    if a==4:\n",
    "        print(\"*   * \")\n",
    "    elif a==5:\n",
    "        print(\" * *\")\n",
    "    elif a==6:\n",
    "        print(\"  * \")\n",
    "    elif a==7:\n",
    "        print(\" * *\")\n",
    "    elif a==8:\n",
    "        print(\"*   *\")\n",
    "    elif a==9:\n",
    "        print(\"\")\n",
    "    a=a+1"
   ]
  },
  {
   "cell_type": "code",
   "execution_count": 128,
   "id": "957344da",
   "metadata": {},
   "outputs": [
    {
     "name": "stdout",
     "output_type": "stream",
     "text": [
      "*    * \n",
      "*    *\n",
      " * * *\n",
      "     *\n",
      "*    *\n",
      " *  * \n"
     ]
    }
   ],
   "source": [
    "a=4\n",
    "while a<=10:\n",
    "    if a==4:\n",
    "        print(\"*    * \")\n",
    "    elif a==5:\n",
    "        print(\"*    *\")\n",
    "    elif a==6:\n",
    "        print(\" * * *\")\n",
    "    elif a==7:\n",
    "        print(\"     *\")\n",
    "    elif a==8:\n",
    "        print(\"*    *\")\n",
    "    elif a==9:\n",
    "        print(\" *  * \")\n",
    "    a=a+1"
   ]
  },
  {
   "cell_type": "code",
   "execution_count": 133,
   "id": "11561829",
   "metadata": {},
   "outputs": [
    {
     "name": "stdout",
     "output_type": "stream",
     "text": [
      " * * * *\n",
      "    * \n",
      " * * * *\n",
      "      \n",
      " \n",
      "\n"
     ]
    }
   ],
   "source": [
    "a=4\n",
    "while a<=10:\n",
    "    if a==4:\n",
    "        print(\" * * * *\")\n",
    "    elif a==5:\n",
    "        print(\"    * \")\n",
    "    elif a==6:\n",
    "        print(\" * * * *\")\n",
    "    elif a==7:\n",
    "        print(\"      \")\n",
    "    elif a==8:\n",
    "        print(\" \")\n",
    "    elif a==9:\n",
    "        print(\"\")\n",
    "    a=a+1"
   ]
  },
  {
   "cell_type": "code",
   "execution_count": null,
   "id": "6b326157",
   "metadata": {},
   "outputs": [],
   "source": []
  },
  {
   "cell_type": "code",
   "execution_count": null,
   "id": "a284f912",
   "metadata": {},
   "outputs": [],
   "source": []
  }
 ],
 "metadata": {
  "kernelspec": {
   "display_name": "Python 3 (ipykernel)",
   "language": "python",
   "name": "python3"
  },
  "language_info": {
   "codemirror_mode": {
    "name": "ipython",
    "version": 3
   },
   "file_extension": ".py",
   "mimetype": "text/x-python",
   "name": "python",
   "nbconvert_exporter": "python",
   "pygments_lexer": "ipython3",
   "version": "3.9.13"
  }
 },
 "nbformat": 4,
 "nbformat_minor": 5
}
