{
 "cells": [
  {
   "cell_type": "code",
   "execution_count": null,
   "id": "512b8552",
   "metadata": {},
   "outputs": [],
   "source": [
    "# write a pyhton programme to covert a string to lower case.\n",
    "#write a python programe  to convert only odd indexed characters to lower case. ex PYTHON output PyThOn\n",
    "#write a python programe to convert only even indexed characters to lower case.ex PYTHON output pYtHoN"
   ]
  },
  {
   "cell_type": "code",
   "execution_count": 2,
   "id": "0dbaeb1f",
   "metadata": {},
   "outputs": [
    {
     "name": "stdout",
     "output_type": "stream",
     "text": [
      "enter a STRING :DATA\n",
      "data\n"
     ]
    }
   ],
   "source": [
    "s=input(\"enter a STRING :\")\n",
    "l=s.lower()\n",
    "print(l)\n"
   ]
  },
  {
   "cell_type": "code",
   "execution_count": 12,
   "id": "98058dc0",
   "metadata": {},
   "outputs": [
    {
     "name": "stdout",
     "output_type": "stream",
     "text": [
      "enter a string:PYTHON\n",
      " PyThOn\n"
     ]
    }
   ],
   "source": [
    "var=input(\"enter a string:\")\n",
    "a=\" \"\n",
    "for i in range(len(var)):\n",
    "    if i%2==0:\n",
    "        a=a+var[i].upper()\n",
    "    else:\n",
    "        a=a+var[i].lower()\n",
    "print(a)"
   ]
  },
  {
   "cell_type": "code",
   "execution_count": 13,
   "id": "d773f1f9",
   "metadata": {},
   "outputs": [
    {
     "name": "stdout",
     "output_type": "stream",
     "text": [
      "enter a stringPYTHON\n",
      " pYtHoN\n"
     ]
    }
   ],
   "source": [
    "var1=input(\"enter a string\")\n",
    "b=\" \"\n",
    "for i in range(len(var1)):\n",
    "    if i%2==0:\n",
    "        b=b+var1[i].lower()\n",
    "    else:\n",
    "        b=b+var1[i].upper()\n",
    "print(b)"
   ]
  },
  {
   "cell_type": "code",
   "execution_count": 1,
   "id": "4eb09b2d",
   "metadata": {},
   "outputs": [
    {
     "name": "stdout",
     "output_type": "stream",
     "text": [
      "enter a stringPYTHON\n",
      " pYtHoN\n"
     ]
    }
   ],
   "source": [
    "var1=input(\"enter a string\")\n",
    "b=\" \"\n",
    "for i in range(len(var1)):\n",
    "    if i%2==0:\n",
    "        b=b+var1[i].lower()\n",
    "    else:\n",
    "        b=b+var1[i].upper()\n",
    "print(b)"
   ]
  },
  {
   "cell_type": "code",
   "execution_count": null,
   "id": "25e0976a",
   "metadata": {},
   "outputs": [],
   "source": [
    "#Write a python program where you have different variable which contains \n",
    "#your name,sex,age, phone no ,fathers name and mothersname.And by using this variable\n",
    "#variable named bio-data where you will use all this variable\n",
    "#Ex:-print(bio-data)\n",
    "#Output:- My name is …., My age is ….,My\n",
    "#phone-no is ….,my fathers name is …,and my\n",
    "#mothers name is……\n"
   ]
  },
  {
   "cell_type": "code",
   "execution_count": 3,
   "id": "ec3b4724",
   "metadata": {},
   "outputs": [
    {
     "name": "stdout",
     "output_type": "stream",
     "text": [
      "enter a namebobby\n",
      "enter a sexmale\n",
      "enter age21\n",
      "enter phno779985\n",
      "enter F namekishore\n",
      "enter M namelakshmi\n",
      "my name bobby ,my sex male ,my age 21 ,my phno 779985 ,my f name kishore ,my m name lakshmi \n"
     ]
    }
   ],
   "source": [
    "name=input(\"enter a name\")\n",
    "sex=input(\"enter a sex\")\n",
    "age=int(input(\"enter age\"))\n",
    "phno=int(input(\"enter phno\"))\n",
    "f_name=input(\"enter F name\")\n",
    "m_name=input(\"enter M name\")\n",
    "bio_data=(\"my name {} ,my sex {} ,my age {} ,my phno {} ,my f name {} ,my m name {} \").format(name,sex,age,phno,f_name,m_name)\n",
    "print(bio_data)\n"
   ]
  },
  {
   "cell_type": "code",
   "execution_count": null,
   "id": "c46cb78b",
   "metadata": {},
   "outputs": [],
   "source": [
    "#Write a python program to count how many times “@” occurred "
   ]
  },
  {
   "cell_type": "code",
   "execution_count": 9,
   "id": "c00cba9b",
   "metadata": {},
   "outputs": [
    {
     "name": "stdout",
     "output_type": "stream",
     "text": [
      "enter chr: axdwrf@mceidk@2@\n"
     ]
    },
    {
     "data": {
      "text/plain": [
       "3"
      ]
     },
     "execution_count": 9,
     "metadata": {},
     "output_type": "execute_result"
    }
   ],
   "source": [
    "x=input(\"enter chr: \")\n",
    "x.count(\"@\")\n"
   ]
  },
  {
   "cell_type": "code",
   "execution_count": null,
   "id": "396a9737",
   "metadata": {},
   "outputs": [],
   "source": [
    "#Write a python program to get only names from the string\n",
    "#“name1.@gmail.com,name2.@gmail.com,name3.@gmail.com”\n",
    "#Output-name1,name2,name3"
   ]
  },
  {
   "cell_type": "code",
   "execution_count": 56,
   "id": "7e426836",
   "metadata": {},
   "outputs": [
    {
     "data": {
      "text/plain": [
       "'name1,name2,name3'"
      ]
     },
     "execution_count": 56,
     "metadata": {},
     "output_type": "execute_result"
    }
   ],
   "source": [
    "q=\"name1.@gmail.com,name2.@gmail.com,name3.@gmail.com\"\n",
    "q1=q.split(\".@gmail.com\") \n",
    "\"\".join(q1)\n"
   ]
  },
  {
   "cell_type": "code",
   "execution_count": null,
   "id": "d4fc8089",
   "metadata": {},
   "outputs": [],
   "source": [
    "#Given a string of odd length greater that 9, return a new string made of the middle three characters of a given String\n",
    "#Ex:- “mynameissan\n",
    "#Output:- “mei”\n"
   ]
  },
  {
   "cell_type": "code",
   "execution_count": 55,
   "id": "82f87660",
   "metadata": {},
   "outputs": [
    {
     "name": "stdout",
     "output_type": "stream",
     "text": [
      "mei\n"
     ]
    }
   ],
   "source": [
    "w=(\"mynameissan\")\n",
    "print(w[len(w)//2-1]+w[len(w)//2:len(w)//2+2])\n",
    "\n"
   ]
  },
  {
   "cell_type": "code",
   "execution_count": null,
   "id": "c09bece8",
   "metadata": {},
   "outputs": [],
   "source": [
    "#Write a python program to insert a 2 string in the middle of 1 string\n",
    "#Ex:-Str1=”myn”\n",
    "#Str2=”sa”\n",
    "#Output:-“msayn”"
   ]
  },
  {
   "cell_type": "code",
   "execution_count": 71,
   "id": "da8e3673",
   "metadata": {},
   "outputs": [
    {
     "data": {
      "text/plain": [
       "'msayn'"
      ]
     },
     "execution_count": 71,
     "metadata": {},
     "output_type": "execute_result"
    }
   ],
   "source": [
    "str1=\"myn\"\n",
    "str2=\"sa\"\n",
    "str1[0]+str2[0:2]+str1[1:]"
   ]
  },
  {
   "cell_type": "code",
   "execution_count": null,
   "id": "79926160",
   "metadata": {},
   "outputs": [],
   "source": [
    "#Write a program to remove vowels from the entire alphabets\n",
    "#Ex:- “abcdefghijklmnopqrstuvwxyz”\n",
    "#Output:- “bcdfghjklmnpqrstvwxyz”"
   ]
  },
  {
   "cell_type": "code",
   "execution_count": 108,
   "id": "9a5cb68a",
   "metadata": {},
   "outputs": [
    {
     "name": "stdout",
     "output_type": "stream",
     "text": [
      "['b', 'c', 'd', 'f', 'g', 'h', 'j', 'k', 'l', 'm', 'n', 'p', 'q', 'r', 's', 't', 'v', 'w', 'x', 'y', 'z']\n"
     ]
    },
    {
     "data": {
      "text/plain": [
       "'bcdfghjklmnpqrstvwxyz'"
      ]
     },
     "execution_count": 108,
     "metadata": {},
     "output_type": "execute_result"
    }
   ],
   "source": [
    "a=\"abcdefghijklmnopqrstuvwxyz\"\n",
    "a1=a.split(\" \")\n",
    "a1\n",
    "a2=[\"a\",\"e\",\"i\",\"o\",\"u\"]\n",
    "a3=[]\n",
    "for i in a:\n",
    "    if i not in a2:\n",
    "        a3.append(i)\n",
    "print(a3)\n",
    "\"\".join(a3)\n",
    "        \n",
    "    "
   ]
  },
  {
   "cell_type": "code",
   "execution_count": null,
   "id": "7a6256cb",
   "metadata": {},
   "outputs": [],
   "source": []
  },
  {
   "cell_type": "code",
   "execution_count": null,
   "id": "ea0b6f97",
   "metadata": {},
   "outputs": [],
   "source": []
  }
 ],
 "metadata": {
  "kernelspec": {
   "display_name": "Python 3 (ipykernel)",
   "language": "python",
   "name": "python3"
  },
  "language_info": {
   "codemirror_mode": {
    "name": "ipython",
    "version": 3
   },
   "file_extension": ".py",
   "mimetype": "text/x-python",
   "name": "python",
   "nbconvert_exporter": "python",
   "pygments_lexer": "ipython3",
   "version": "3.9.13"
  }
 },
 "nbformat": 4,
 "nbformat_minor": 5
}
