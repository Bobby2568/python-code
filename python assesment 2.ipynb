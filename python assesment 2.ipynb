{
 "cells": [
  {
   "cell_type": "code",
   "execution_count": 4,
   "id": "d0f83076",
   "metadata": {},
   "outputs": [
    {
     "name": "stdout",
     "output_type": "stream",
     "text": [
      "enter a number4\n",
      "enter a number2\n",
      "The multiplication of 4*2=8\n",
      "the division of 4%2=0\n"
     ]
    }
   ],
   "source": [
    "#1) Write a program to accept two numbers from the user and calculate multiplication, division\n",
    "num1=int(input(\"enter a number\"))\n",
    "num2=int(input(\"enter a number\"))\n",
    "print(\"The multiplication of {}*{}={}\".format(num1,num2,num1*num2))\n",
    "print(\"the division of {}%{}={}\".format(num1,num2,num1%num2))\n"
   ]
  },
  {
   "cell_type": "code",
   "execution_count": 7,
   "id": "c3ecd9f3",
   "metadata": {},
   "outputs": [
    {
     "name": "stdout",
     "output_type": "stream",
     "text": [
      "i n m t c "
     ]
    }
   ],
   "source": [
    "#2) Write a python program to print the characters from a string that are present at an even index\n",
    "str1=\"innomatics\"\n",
    "len(str1)\n",
    "for i in range(len(str1)):\n",
    "    if i%2==0:\n",
    "        print(str1[i],end=\" \")"
   ]
  },
  {
   "cell_type": "code",
   "execution_count": 8,
   "id": "778779ac",
   "metadata": {},
   "outputs": [
    {
     "name": "stdout",
     "output_type": "stream",
     "text": [
      "n o a i s "
     ]
    }
   ],
   "source": [
    "#3) Write a python program to print the characters from a string that are present at an odd index\n",
    "\n",
    "str1=\"innomatics\"\n",
    "len(str1)\n",
    "for i in range(len(str1)):\n",
    "    if i%2!=0:\n",
    "        print(str1[i],end=\" \")"
   ]
  },
  {
   "cell_type": "code",
   "execution_count": 11,
   "id": "562c352a",
   "metadata": {},
   "outputs": [
    {
     "name": "stdout",
     "output_type": "stream",
     "text": [
      "enter a num2\n",
      "enter a num7\n",
      "2-7=-5\n"
     ]
    }
   ],
   "source": [
    "#4) Write a python program which will print the sum of the two numbers if the two numbers are even or it will print the\n",
    "#difference of two numbers\n",
    "n1=int(input(\"enter a num\"))\n",
    "n2=int(input(\"enter a num\"))\n",
    "if n1%2==0 and n2%2==0:\n",
    "    print(\"{}+{}={}\".format(n1,n2,n1+n2))\n",
    "else:\n",
    "    print(\"{}-{}={}\".format(n1,n2,n1-n2))"
   ]
  },
  {
   "cell_type": "code",
   "execution_count": 12,
   "id": "a12b78ed",
   "metadata": {},
   "outputs": [
    {
     "name": "stdout",
     "output_type": "stream",
     "text": [
      "InNoMaTiCs"
     ]
    }
   ],
   "source": [
    "#) Write a python program to convert all even indexed alphabets to upper and odd indexed char\n",
    "s1=\"innomatics\"\n",
    "for i in range(len(s1)):\n",
    "    if i%2==0:\n",
    "        print(s1[i].upper(),end=\"\")\n",
    "    elif i%2!=0:\n",
    "        print(s1[i].lower(),end=\"\")"
   ]
  },
  {
   "cell_type": "code",
   "execution_count": 13,
   "id": "7a73213c",
   "metadata": {},
   "outputs": [
    {
     "name": "stdout",
     "output_type": "stream",
     "text": [
      "enter a num10\n",
      "True\n"
     ]
    }
   ],
   "source": [
    "#6) Write a python program which will print True if the input number is divisible by 5 or else False\n",
    "n1=int(input(\"enter a num\"))\n",
    "if n1%5==0:\n",
    "    print(\"True\")\n",
    "else:\n",
    "    print(\"False\")"
   ]
  },
  {
   "cell_type": "code",
   "execution_count": 3,
   "id": "666526d3",
   "metadata": {},
   "outputs": [
    {
     "data": {
      "text/plain": [
       "2000"
      ]
     },
     "execution_count": 3,
     "metadata": {},
     "output_type": "execute_result"
    }
   ],
   "source": [
    "#7) Given two integer numbers return their product only if the product is greater than 1000, else return their sum\n",
    "def n(x,y):\n",
    "        if x*y>=1000:\n",
    "            return x*y\n",
    "        else:\n",
    "            return x+y\n",
    "n(200,10)"
   ]
  },
  {
   "cell_type": "code",
   "execution_count": null,
   "id": "c62b489e",
   "metadata": {},
   "outputs": [],
   "source": [
    "#8) Given two strings x, y writes a program to return a new string made of x and y’s first, middle, and last characters\n",
    "Example:\n",
    "Input\n",
    "X=” pytho”\n",
    "Y=” javas”\n",
    "Output\n",
    "” pjtvos”"
   ]
  },
  {
   "cell_type": "code",
   "execution_count": 5,
   "id": "1349a3ab",
   "metadata": {},
   "outputs": [
    {
     "name": "stdout",
     "output_type": "stream",
     "text": [
      "pjtvos\n"
     ]
    }
   ],
   "source": [
    "x=\"pytho\"\n",
    "y=\"javas\"\n",
    "a=x[0]+y[0]+x[len(x)//2]+y[len(y)//2]+x[-1]+y[-1]\n",
    "print(a)"
   ]
  },
  {
   "cell_type": "code",
   "execution_count": null,
   "id": "a806dd28",
   "metadata": {},
   "outputs": [],
   "source": [
    "#9) Write a python program to take three names as input from a user in the single input () function call\n",
    "Example:\n",
    "Input:\n",
    "Enter three names: - “person1 person2 person3”\n",
    "Output:\n",
    "Name1: - “person1”\n",
    "Name2: - “person2”\n",
    "Name3: - “person3”\n"
   ]
  },
  {
   "cell_type": "code",
   "execution_count": 7,
   "id": "81974faa",
   "metadata": {},
   "outputs": [
    {
     "name": "stdout",
     "output_type": "stream",
     "text": [
      "enter three names: person1,person2,person3\n",
      "name1:  person1\n",
      "name2:  person2\n",
      "name3:  person3\n"
     ]
    }
   ],
   "source": [
    "p=input(\"enter three names: \")\n",
    "b=p.split(\",\")\n",
    "print(\"name1: \",b[0])\n",
    "print(\"name2: \",b[1])\n",
    "print(\"name3: \",b[2])"
   ]
  },
  {
   "cell_type": "code",
   "execution_count": null,
   "id": "6ad9cce2",
   "metadata": {},
   "outputs": [],
   "source": [
    "#10) Write a Python program to get a string from a given string where all occurrences of its first char have been\n",
    "#changed to '@', except the first char itself.\n",
    "Example:\n",
    "Input:\n",
    "'malayalam’\n",
    "Output:\n",
    "'malayala@'\n",
    "Input:\n",
    "' abcabab'\n",
    "Output:\n",
    "‘abc@b@b’"
   ]
  },
  {
   "cell_type": "code",
   "execution_count": 11,
   "id": "782aa5eb",
   "metadata": {},
   "outputs": [
    {
     "data": {
      "text/plain": [
       "'malayala@'"
      ]
     },
     "execution_count": 11,
     "metadata": {},
     "output_type": "execute_result"
    }
   ],
   "source": [
    "v1=\"malayalam\"\n",
    "v2=v1[0]+v1[1:].replace(\"m\",\"@\")\n",
    "v2"
   ]
  },
  {
   "cell_type": "code",
   "execution_count": 13,
   "id": "c5516819",
   "metadata": {},
   "outputs": [
    {
     "data": {
      "text/plain": [
       "'abc@b@b'"
      ]
     },
     "execution_count": 13,
     "metadata": {},
     "output_type": "execute_result"
    }
   ],
   "source": [
    "v3=\"abcabab\"\n",
    "v4=v3[0]+v3[1:].replace(\"a\",\"@\")\n",
    "v4"
   ]
  },
  {
   "cell_type": "code",
   "execution_count": null,
   "id": "50d98712",
   "metadata": {},
   "outputs": [],
   "source": [
    "#11) Write a Python program to add 'ing' at the end of a given string (string length should be equal to or more than 3). If\n",
    "#the given string already ends with 'ing' then add 'ly' instead.\n",
    "#If the string length of the given string is less than 3, leave it unchanged\n",
    "Example:\n",
    "Input:\n",
    "'sing’\n",
    "Output:\n",
    "'singing'\n",
    "Input:\n",
    "' playing'\n",
    "Output:\n",
    "‘playly’\n",
    "Input:\n",
    "' on'\n",
    "Output:\n",
    "‘on"
   ]
  },
  {
   "cell_type": "code",
   "execution_count": 6,
   "id": "5b181107",
   "metadata": {},
   "outputs": [
    {
     "name": "stdout",
     "output_type": "stream",
     "text": [
      "enter a wordplaying\n",
      "playingly\n"
     ]
    }
   ],
   "source": [
    "a1=input(\"enter a word\")\n",
    "if len(a1)<=3:\n",
    "    print(a1)\n",
    "else:\n",
    "    if a1[-3:]==\"ing\":\n",
    "        print(a1+\"ly\")\n",
    "    else:\n",
    "        print(a1+\"ing\")"
   ]
  },
  {
   "cell_type": "code",
   "execution_count": null,
   "id": "09f7b36c",
   "metadata": {},
   "outputs": [],
   "source": []
  },
  {
   "cell_type": "code",
   "execution_count": null,
   "id": "8c3d301f",
   "metadata": {},
   "outputs": [],
   "source": []
  },
  {
   "cell_type": "code",
   "execution_count": 15,
   "id": "a026a2d1",
   "metadata": {},
   "outputs": [
    {
     "name": "stdout",
     "output_type": "stream",
     "text": [
      "enter a nunmber1\n",
      "enter a number2\n",
      "False\n"
     ]
    }
   ],
   "source": [
    "#12) Write a python program that accepts two inputs num1 and num2 print True if one of them is 10 or if their sum is 10\n",
    "#otherwise print False\n",
    "num1=int(input(\"enter a nunmber\"))\n",
    "num2=int(input(\"enter a number\"))\n",
    "if num1==10 or num2==10 or num1+num2==10:\n",
    "    print(\"True\")\n",
    "else:\n",
    "    print(\"False\")"
   ]
  },
  {
   "cell_type": "code",
   "execution_count": 19,
   "id": "77241549",
   "metadata": {},
   "outputs": [
    {
     "name": "stdout",
     "output_type": "stream",
     "text": [
      "True\n"
     ]
    }
   ],
   "source": [
    "#13) Write a python program that accepts three inputs x, y and z print True if x*y>z otherwise False\n",
    "def f1(x,y,z):\n",
    "    if x*y>z:\n",
    "        print(\"True\")\n",
    "    else:\n",
    "        print(\"False\")\n",
    "f1(2,2,3)"
   ]
  },
  {
   "cell_type": "code",
   "execution_count": 21,
   "id": "8a09d6f5",
   "metadata": {},
   "outputs": [
    {
     "name": "stdout",
     "output_type": "stream",
     "text": [
      "enter a string: python\n",
      "enter a string: java\n",
      "False\n"
     ]
    }
   ],
   "source": [
    "#14) Write a python program that accepts two strings inputs return True depending on whether the total number of\n",
    "#characters in the first string is equal to the total number of characters in the second string\n",
    "s1=input(\"enter a string: \")\n",
    "s2=input(\"enter a string: \")\n",
    "if len(s1)==len(s2):\n",
    "    print(\"True\")\n",
    "else:\n",
    "    print(\"False\")"
   ]
  },
  {
   "cell_type": "code",
   "execution_count": 9,
   "id": "e44ee9ad",
   "metadata": {},
   "outputs": [
    {
     "data": {
      "text/plain": [
       "'abcabcabc'"
      ]
     },
     "execution_count": 9,
     "metadata": {},
     "output_type": "execute_result"
    }
   ],
   "source": [
    "#15) Write a python program that takes a string input, we'll say that the front is the first three characters of the string. If the\n",
    "#string length is less than three characters, the front is whatever is there. Return a new string, which is three copies of th\n",
    "\n",
    "def front(x):\n",
    "    fr=\"abc\"\n",
    "    if len(x)<3:\n",
    "        return fr+fr+fr\n",
    "    else:\n",
    "        return x\n",
    "    \n",
    "\n",
    "front(\"ac\")"
   ]
  },
  {
   "cell_type": "code",
   "execution_count": 20,
   "id": "cd953736",
   "metadata": {},
   "outputs": [
    {
     "name": "stdout",
     "output_type": "stream",
     "text": [
      "enter a word: rats,bats,even,odd\n",
      "plural\n",
      "plural\n",
      "not a plural\n",
      "not a plural\n"
     ]
    }
   ],
   "source": [
    "#16) Write a python program that takes in a word and determines whether or not it is plural. A plural word is one 0that ends in \"s\n",
    "\n",
    "p=input(\"enter a word: \")\n",
    "p1=p.split(\",\")\n",
    "for i in p1:\n",
    "    if i.endswith(\"s\"):\n",
    "        print(\"plural\")\n",
    "    else:\n",
    "        print(\"not a plural\")"
   ]
  },
  {
   "cell_type": "code",
   "execution_count": 7,
   "id": "510a34e2",
   "metadata": {},
   "outputs": [
    {
     "name": "stdout",
     "output_type": "stream",
     "text": [
      "Is bartender on break(T/F): False\n",
      " plese enter the Age of the customer: 31\n",
      "Bartender  serve drinks\n"
     ]
    }
   ],
   "source": [
    "#17) A bartender is writing a simple program to determine whether he should serve drinks to someone. He only serves \n",
    "#drinks to people 18 and older and when he's not on break (True means break and False means not a break time). Given\n",
    "#the person's age, and whether break time is in session, create a python program which prints whether he should serve drinks or not\n",
    "\n",
    "var=input(\"Is bartender on break(T/F): \")\n",
    "\n",
    "if var==\"True\":\n",
    "    print(\"Bartender should not serve drinks\")\n",
    "elif var==\"False\":\n",
    "    y=int(input(\" plese enter the Age of the customer: \"))\n",
    "    if y>=18:\n",
    "        print(\"Bartender  serve drinks\")\n",
    "    else:\n",
    "        print(\"Bartender  not serve drinks\")\n",
    "else:\n",
    "    print(\"Input has to be True or False\")"
   ]
  },
  {
   "cell_type": "code",
   "execution_count": null,
   "id": "870ac7ce",
   "metadata": {},
   "outputs": [],
   "source": [
    "#18) Manoj Kumar has family and friends. Help him remind them who is who. Given a string with a name, return the\n",
    "#relation of that person to Manoj Kumar.\n",
    "Person Relation\n",
    "Shiva father\n",
    "Letha mother\n",
    "Tarun brother\n"
   ]
  },
  {
   "cell_type": "code",
   "execution_count": 9,
   "id": "f6a6a687",
   "metadata": {},
   "outputs": [
    {
     "name": "stdout",
     "output_type": "stream",
     "text": [
      "enter the name :Shiva\n",
      "Shiva father\n"
     ]
    }
   ],
   "source": [
    "name=input(\"enter the name :\")\n",
    "if name==\"Shiva\":\n",
    "    print(name,\"father\")\n",
    "elif name==\"Letha\":\n",
    "    print(name,\"mother\")\n",
    "elif name==\"Tarun\":\n",
    "    print(name,\"brother\")\n",
    "elif name==\"Kavita\":\n",
    "    print(name,\"sister\")\n",
    "elif name==\"Stranger\":\n",
    "    print(name,\"coder\")"
   ]
  },
  {
   "cell_type": "code",
   "execution_count": 54,
   "id": "9387f6e2",
   "metadata": {},
   "outputs": [
    {
     "name": "stdout",
     "output_type": "stream",
     "text": [
      "aeoubcd@#$%\n"
     ]
    }
   ],
   "source": [
    "#19) Write a python program that takes a string, breaks it up and returns it with vowels first, consonants second. For any\n",
    "#character that's not a vowel (like special characters or spaces), treat them like consonants\n",
    "st=\"abcdeou@#$%\"\n",
    "v=\"aeiou\"\n",
    "v1=\"\"\n",
    "v2=\"\"\n",
    "for i in st:\n",
    "    if i not in v:\n",
    "        v1=v1+i\n",
    "    elif i in v:\n",
    "        v2=v2+i\n",
    "        \n",
    "print(v2+v1)"
   ]
  },
  {
   "cell_type": "code",
   "execution_count": null,
   "id": "b2ef65e4",
   "metadata": {},
   "outputs": [],
   "source": [
    "#20) Create a dynamic calculator which asks for numbers and operator and return the answers\n",
    "Example\n",
    "Input:\n",
    "Type first number: 10\n",
    "Type any of this (+, -, *, /, %, **): *\n",
    "Kavitha sister\n",
    "Strange Coder\n",
    "Assignment-2\n",
    "Type second number: 19\n",
    "Output:\n",
    "Answer is 190"
   ]
  },
  {
   "cell_type": "code",
   "execution_count": 8,
   "id": "2cc6f675",
   "metadata": {},
   "outputs": [
    {
     "data": {
      "text/plain": [
       "4"
      ]
     },
     "execution_count": 8,
     "metadata": {},
     "output_type": "execute_result"
    }
   ],
   "source": [
    "def f(n1,n2,op):\n",
    "    if op==\"+\":\n",
    "        return n1+n1\n",
    "    elif op==\"-\":\n",
    "        return n1-n2\n",
    "f(5,1,\"-\")\n",
    "    \n",
    "    "
   ]
  },
  {
   "cell_type": "code",
   "execution_count": 10,
   "id": "f6e122a8",
   "metadata": {},
   "outputs": [
    {
     "name": "stdout",
     "output_type": "stream",
     "text": [
      "eneter first value :19\n",
      "enter second value :10\n",
      "type any of this [+, -, *, /, %, **] *\n",
      "the product of two numbers is : 190\n"
     ]
    }
   ],
   "source": [
    "num1=int(input(\"eneter first value :\"))\n",
    "num2=int(input(\"enter second value :\"))\n",
    "choice=input(\"type any of this [+, -, *, /, %, **] \")\n",
    "if choice==\"+\":\n",
    "    print(\"The addition of two numbers is :\",num1+num2)\n",
    "elif choice==\"-\":\n",
    "    print(\"the substraction of two numbers is :\",num1-num2)\n",
    "elif choice==\"*\":\n",
    "    print(\"the product of two numbers is :\",num1*num2)\n",
    "elif choice==\"%\":\n",
    "    print(\"the  floor division of two numbers is\",num1%num2)\n",
    "elif choice==\"/\":\n",
    "    print(\"the floor division of twi numbers is \",num1/num2)\n",
    "elif choice==\"**\":\n",
    "    print(\"the power of two numbers is\",num1**num2)"
   ]
  },
  {
   "cell_type": "code",
   "execution_count": null,
   "id": "18a17b1c",
   "metadata": {},
   "outputs": [],
   "source": []
  }
 ],
 "metadata": {
  "kernelspec": {
   "display_name": "Python 3 (ipykernel)",
   "language": "python",
   "name": "python3"
  },
  "language_info": {
   "codemirror_mode": {
    "name": "ipython",
    "version": 3
   },
   "file_extension": ".py",
   "mimetype": "text/x-python",
   "name": "python",
   "nbconvert_exporter": "python",
   "pygments_lexer": "ipython3",
   "version": "3.9.13"
  }
 },
 "nbformat": 4,
 "nbformat_minor": 5
}
