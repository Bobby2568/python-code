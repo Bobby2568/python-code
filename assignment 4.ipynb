{
 "cells": [
  {
   "cell_type": "code",
   "execution_count": null,
   "id": "ff78a6e4",
   "metadata": {},
   "outputs": [],
   "source": [
    "#1. Given a list of numbers, write a python program that returns a new list which Has all\n",
    "#duplicate elements removed. And is sorted in an increasing order.\n",
    " Ex:\n",
    "Input:\n",
    "[2,1,3,4,2,3,3,2,7,9,8,7]\n",
    "Output:\n",
    "[1,2,3,4,7,8,9]\n"
   ]
  },
  {
   "cell_type": "code",
   "execution_count": 3,
   "id": "06f34662",
   "metadata": {},
   "outputs": [
    {
     "data": {
      "text/plain": [
       "[1, 2, 3, 4, 5, 6]"
      ]
     },
     "execution_count": 3,
     "metadata": {},
     "output_type": "execute_result"
    }
   ],
   "source": [
    "n=[1,2,3,4,5,6,2,3,6,3]\n",
    "n1=set(n)\n",
    "n2=list(n1)\n",
    "n2.sort()\n",
    "n2\n"
   ]
  },
  {
   "cell_type": "code",
   "execution_count": 5,
   "id": "58689bbe",
   "metadata": {},
   "outputs": [
    {
     "name": "stdout",
     "output_type": "stream",
     "text": [
      "1 data\n",
      "2 science\n",
      "3 python\n",
      "4 java\n"
     ]
    }
   ],
   "source": [
    "#2. Write a Python program where you will iterate over both keys and values in dictionaries\n",
    "\n",
    "dict1={1:\"data\",2:\"science\",3:\"python\",4:\"java\"}\n",
    "for keys,values in dict1.items():\n",
    "    print(keys,values)"
   ]
  },
  {
   "cell_type": "code",
   "execution_count": null,
   "id": "e7c72961",
   "metadata": {},
   "outputs": [],
   "source": [
    "#3. Write a Python program that takes a dictionary of student names and returns a list of student names in alphabetical order\n",
    "Ex:\n",
    "Input:\n",
    "{“Student 1”: \"Tarun\", \"Student 2”: \"Manoj\", \"Student 3”: \"Gephi”}"
   ]
  },
  {
   "cell_type": "code",
   "execution_count": 16,
   "id": "6b34ac1e",
   "metadata": {},
   "outputs": [
    {
     "name": "stdout",
     "output_type": "stream",
     "text": [
      "['Gephi', 'Manoj', 'Tarun']\n"
     ]
    }
   ],
   "source": [
    "dict2={\"Student 1\": \"Tarun\", \"Student 2\": \"Manoj\", \"Student 3\": \"Gephi\"}\n",
    "l=[]\n",
    "for keys,values in dict2.items():\n",
    "    l.append(values)\n",
    "    l.sort()\n",
    "print(l)"
   ]
  },
  {
   "cell_type": "code",
   "execution_count": null,
   "id": "b8005333",
   "metadata": {},
   "outputs": [],
   "source": [
    "#4. Write a Python which returns a new list of Booleans, from a given number. Iterating through the number one digit at a time, append True if the digit is 1 and False if it is 0.\n",
    "Ex:\n",
    "Input: “01001”\n",
    "Output: [“False”, “True”, “False”,” False”,” True”]"
   ]
  },
  {
   "cell_type": "code",
   "execution_count": 30,
   "id": "04c7569e",
   "metadata": {},
   "outputs": [
    {
     "name": "stdout",
     "output_type": "stream",
     "text": [
      "['false', 'true', 'false', 'false', 'true']\n"
     ]
    }
   ],
   "source": [
    "n=\"01001\"\n",
    "l=[]\n",
    "for i in n:\n",
    "    if i==\"1\":\n",
    "        l.append(\"true\")\n",
    "    elif i==\"0\":\n",
    "        l.append(\"false\")\n",
    "print(l)"
   ]
  },
  {
   "cell_type": "code",
   "execution_count": null,
   "id": "b4a38a10",
   "metadata": {},
   "outputs": [],
   "source": [
    "# 5 Write a Python program where you will return a dictionary where the keys will be the\n",
    "#character and the values will be the occurrence of the character in the string, and it\n",
    "#should for any string inputs (dynamic)\n",
    "Ex:\n",
    "Input: “my name is ame”\n",
    "Output: {“m”:3,” y”:1,” n”:1,” a”:2,” e”:2,” i”:1,” s”:1}"
   ]
  },
  {
   "cell_type": "code",
   "execution_count": 33,
   "id": "63220183",
   "metadata": {},
   "outputs": [
    {
     "name": "stdout",
     "output_type": "stream",
     "text": [
      "enter a charactermy  name is ame\n",
      "{'s': 1, 'm': 3, 'n': 1, 'e': 2, 'i': 1, ' ': 4, 'y': 1, 'a': 2}\n"
     ]
    }
   ],
   "source": [
    "a=input(\"enter a character\")\n",
    "b=set(a)\n",
    "c=list(b)\n",
    "d=dict()\n",
    "for i in c:\n",
    "    d.update({i:a.count(i)})\n",
    "print(d)\n",
    "    "
   ]
  },
  {
   "cell_type": "code",
   "execution_count": null,
   "id": "f2403caa",
   "metadata": {},
   "outputs": [],
   "source": [
    "#6. Given a dictionary containing the names and ages of a group of people, return the name of the oldest person\n",
    "Ex:\n",
    "Input: {\"Tmma\": 41, \"Ackes\": 45, \"myna\": 15, \"Benthon\": 29}\n",
    "Output: “Ackes"
   ]
  },
  {
   "cell_type": "code",
   "execution_count": 42,
   "id": "b5903b73",
   "metadata": {},
   "outputs": [
    {
     "name": "stdout",
     "output_type": "stream",
     "text": [
      "Ackes\n"
     ]
    }
   ],
   "source": [
    "d={\"Tmma\": 41, \"Ackes\": 45, \"myna\": 15, \"Benthon\": 29}\n",
    "b=max(d.values())\n",
    "for i in d:\n",
    "    if d[i]==b:\n",
    "        print(i)\n",
    "    \n",
    "\n",
    "\n",
    "    \n",
    "    \n",
    "    "
   ]
  },
  {
   "cell_type": "code",
   "execution_count": 43,
   "id": "434b3c12",
   "metadata": {},
   "outputs": [
    {
     "name": "stdout",
     "output_type": "stream",
     "text": [
      "enter person1scissor\n",
      "enter person2rock\n",
      "person2 wins\n"
     ]
    }
   ],
   "source": [
    "#7. Write a Python program to create a Rock, Paper, Scissor game, use two inputs for two players:\n",
    "#Conditions: -Rock beats Scissors, Scissors beats Paper, Paper beats Rock\n",
    "\n",
    "p1=input(\"enter person1\")\n",
    "p2=input(\"enter person2\")\n",
    "if p1==\"rock\":\n",
    "    if p2==\"scissor\":\n",
    "        print(\"pesron1 wins\")\n",
    "    elif p2==\"paper\":\n",
    "        print(\"person2 wins\")\n",
    "    elif p2==\"rock\":\n",
    "        print(\"match tie\")\n",
    "elif p1==\"paper\":\n",
    "    if p2==\"rock\":\n",
    "        print(\"person1 wins\")\n",
    "    elif p2==\"scissor\":\n",
    "        print(\"person2 wins\")\n",
    "    elif p2==\"paper\":\n",
    "        print(\"match tie\")\n",
    "elif p1==\"scissor\":\n",
    "    if p2==\"rock\":\n",
    "        print(\"person2 wins\")\n",
    "    elif p2==\"paper\":\n",
    "        print(\"person1 wins\")\n",
    "    elif p2==\"scissor\":\n",
    "        print(\"match tie\")\n",
    "else:\n",
    "    print(\"invalid input\")\n"
   ]
  },
  {
   "cell_type": "code",
   "execution_count": null,
   "id": "8d0c2ef8",
   "metadata": {},
   "outputs": [],
   "source": [
    "# 8. Create a program that returns a list of items that you can afford in the store with the\n",
    "#money you have in your wallet. Create a dictionary with items as key and price as values\n",
    "Ex:\n",
    "Input:\n",
    "{“water bottles”: “20”,” chips”:10,” Iphone”;49000“,” towel”:90,” pens”:58,” cake”;400}\n",
    "Your wallet balance: -50\n",
    "Output: [“water bottles”, “chips”]"
   ]
  },
  {
   "cell_type": "code",
   "execution_count": 47,
   "id": "551e708c",
   "metadata": {},
   "outputs": [
    {
     "name": "stdout",
     "output_type": "stream",
     "text": [
      "['waterbottles', 'chips']\n"
     ]
    }
   ],
   "source": [
    "x={\"waterbottles\": 20,\"chips\":10,\"Iphone\":49000,\"towel\":90,\"pens\":58,\"cake\":400}\n",
    "l=[]\n",
    "for keys,values in x.items():\n",
    "    if values<50:\n",
    "        l.append(keys)\n",
    "print(l)"
   ]
  },
  {
   "cell_type": "code",
   "execution_count": 48,
   "id": "9c123e3f",
   "metadata": {},
   "outputs": [
    {
     "name": "stdout",
     "output_type": "stream",
     "text": [
      "{1, 2, 3, 4, 5, 6, 7}\n"
     ]
    }
   ],
   "source": [
    "#9. Write a Python program to create a union of sets\n",
    "\n",
    "x={1,2,3,4,5}\n",
    "y={2,5,3,6,7}\n",
    "z=x.union(y)\n",
    "print(z)"
   ]
  },
  {
   "cell_type": "code",
   "execution_count": 53,
   "id": "c2a14e0a",
   "metadata": {},
   "outputs": [
    {
     "name": "stdout",
     "output_type": "stream",
     "text": [
      "enter a values45\n",
      "false\n"
     ]
    }
   ],
   "source": [
    "#10. Write a Python program to check if a given value is present in a set or not (Dynamic)\n",
    "s={1,2,3,4,5,6,7}\n",
    "s1=int(input(\"enter a values\"))\n",
    "if s1 in s:\n",
    "    print(\"true\")\n",
    "else:\n",
    "    print(\"false\")"
   ]
  },
  {
   "cell_type": "code",
   "execution_count": null,
   "id": "7f4d176d",
   "metadata": {},
   "outputs": [],
   "source": [
    "#11. Write a Python program to find the occurrences of 3 most common words in a given text. And make it as a dictionaries\n",
    "Ex:\n",
    "Input:\n",
    "” Cat dog dog cat horse dog dog mouse horse dog mouse tiger lion tiger\n",
    "cat mouse snail”\n",
    "Output: (“dog”:5,”cat”:3,” mouse”;3)"
   ]
  },
  {
   "cell_type": "code",
   "execution_count": 65,
   "id": "833c8ba1",
   "metadata": {},
   "outputs": [
    {
     "name": "stdout",
     "output_type": "stream",
     "text": [
      "{'cat': 3, 'dog': 5, 'mouse': 3}\n"
     ]
    }
   ],
   "source": [
    "d=\"cat dog dog cat horse dog dog mouse horse dog mouse tiger lion tiger cat mouse snail\"\n",
    "s=d.split(\" \")\n",
    "s1={}\n",
    "for i in s:\n",
    "    if s.count(i)>2:\n",
    "        if i in s1:\n",
    "            s1[i]=s1[i]+1\n",
    "        else:\n",
    "            s1[i]=1\n",
    "print(s1)"
   ]
  },
  {
   "cell_type": "code",
   "execution_count": 73,
   "id": "3b9fdac8",
   "metadata": {},
   "outputs": [
    {
     "name": "stdout",
     "output_type": "stream",
     "text": [
      "{'maths': 80, 'science': 90, 'social': 94}\n"
     ]
    }
   ],
   "source": [
    "#12. Write a Python program that accepts name of given subject and mark, and make subjects as keys in dictionaries and \n",
    "#marks as values and print the final dictionary with subjects and marks\n",
    "sub=[\"maths\",\"science\",\"social\"]\n",
    "m=[80,90,94,98]\n",
    "d=dict()\n",
    "for i in range(len(sub)):\n",
    "    d.update({sub[i]:m[i]})\n",
    "print(d)\n"
   ]
  },
  {
   "cell_type": "code",
   "execution_count": null,
   "id": "a237109b",
   "metadata": {},
   "outputs": [],
   "source": []
  }
 ],
 "metadata": {
  "kernelspec": {
   "display_name": "Python 3 (ipykernel)",
   "language": "python",
   "name": "python3"
  },
  "language_info": {
   "codemirror_mode": {
    "name": "ipython",
    "version": 3
   },
   "file_extension": ".py",
   "mimetype": "text/x-python",
   "name": "python",
   "nbconvert_exporter": "python",
   "pygments_lexer": "ipython3",
   "version": "3.9.13"
  }
 },
 "nbformat": 4,
 "nbformat_minor": 5
}
