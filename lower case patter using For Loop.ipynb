{
 "cells": [
  {
   "cell_type": "code",
   "execution_count": 18,
   "id": "f8377769",
   "metadata": {},
   "outputs": [
    {
     "name": "stdout",
     "output_type": "stream",
     "text": [
      " * * *\n",
      "*      *\n",
      "*      *  *\n",
      " * * * * *\n"
     ]
    }
   ],
   "source": [
    "a=[1,2,3,4,5,6,7,8,9]\n",
    "for i in a:\n",
    "    if i==4:\n",
    "        print(\" * * *\")\n",
    "    elif i==5:\n",
    "        print(\"*      *\")\n",
    "    elif i==6:\n",
    "        print(\"*      *  *\")\n",
    "    elif i==7:\n",
    "        print(\" * * * * *\")"
   ]
  },
  {
   "cell_type": "code",
   "execution_count": 20,
   "id": "4abd792c",
   "metadata": {},
   "outputs": [
    {
     "name": "stdout",
     "output_type": "stream",
     "text": [
      "*\n",
      "*\n",
      "* * *\n",
      "*    * \n",
      "* * *\n"
     ]
    }
   ],
   "source": [
    "a=[1,2,3,4,5,6,7,8,9]\n",
    "for i in a:\n",
    "    if i==4:\n",
    "        print(\"*\")\n",
    "    elif i==5:\n",
    "        print(\"*\")\n",
    "    elif i==6:\n",
    "        print(\"* * *\")\n",
    "    elif i==7:\n",
    "        print(\"*    * \")\n",
    "    elif i==8:\n",
    "        print(\"* * *\") "
   ]
  },
  {
   "cell_type": "code",
   "execution_count": 29,
   "id": "b26aad39",
   "metadata": {},
   "outputs": [
    {
     "name": "stdout",
     "output_type": "stream",
     "text": [
      " * * *\n",
      "*\n",
      " * * *\n"
     ]
    }
   ],
   "source": [
    "a=[1,2,3,4,5,6,7,8,9]\n",
    "for i in a:\n",
    "    if i==1:\n",
    "        print(\" * * *\")\n",
    "    elif i==2:\n",
    "        print(\"*\")\n",
    "    elif i==3:\n",
    "        print(\" * * *\")"
   ]
  },
  {
   "cell_type": "code",
   "execution_count": 30,
   "id": "3937d0b0",
   "metadata": {},
   "outputs": [
    {
     "name": "stdout",
     "output_type": "stream",
     "text": [
      "       *\n",
      "       *\n",
      "   * * *\n",
      "  *    *\n",
      "   * * *\n"
     ]
    }
   ],
   "source": [
    "a=[1,2,3,4,5,6,7,8,9]\n",
    "for i in a:\n",
    "    if i==4:\n",
    "        print(\"       *\")\n",
    "    elif i==5:\n",
    "        print(\"       *\")\n",
    "    elif i==6:\n",
    "        print(\"   * * *\")\n",
    "    elif i==7:\n",
    "        print(\"  *    *\")\n",
    "    elif i==8:\n",
    "        print(\"   * * *\")"
   ]
  },
  {
   "cell_type": "code",
   "execution_count": 31,
   "id": "a08b8bd6",
   "metadata": {},
   "outputs": [
    {
     "name": "stdout",
     "output_type": "stream",
     "text": [
      " * * *\n",
      "* * * *\n",
      "*\n",
      " * * *\n"
     ]
    }
   ],
   "source": [
    "a=[1,2,3,4,5,6,7,8,9]\n",
    "for i in a:\n",
    "    if i==4:\n",
    "        print(\" * * *\")\n",
    "    elif i==5:\n",
    "        print(\"* * * *\")\n",
    "    elif i==6:\n",
    "        print(\"*\")\n",
    "    elif i==7:\n",
    "        print(\" * * *\")"
   ]
  },
  {
   "cell_type": "code",
   "execution_count": 32,
   "id": "748d9c49",
   "metadata": {},
   "outputs": [
    {
     "name": "stdout",
     "output_type": "stream",
     "text": [
      " * * *\n",
      " *    *\n",
      " *  *\n",
      " *\n",
      "** * * \n",
      " *\n"
     ]
    }
   ],
   "source": [
    "a=[1,2,3,4,5,6,7,8,9]\n",
    "for i in a:\n",
    "    if i==4:\n",
    "        print(\" * * *\")\n",
    "    elif i==5:\n",
    "        print(\" *    *\")\n",
    "    elif i==6:\n",
    "        print(\" *  *\")\n",
    "    elif i==7:\n",
    "        print(\" *\")\n",
    "    elif i==8:\n",
    "        print(\"** * * \")\n",
    "    elif i==9:\n",
    "        print(\" *\")"
   ]
  },
  {
   "cell_type": "code",
   "execution_count": 33,
   "id": "55109d4b",
   "metadata": {},
   "outputs": [
    {
     "name": "stdout",
     "output_type": "stream",
     "text": [
      "  * * *\n",
      " *     *\n",
      "  * * *\n",
      "      *\n",
      "  *   * \n",
      "   *** \n"
     ]
    }
   ],
   "source": [
    "a=[1,2,3,4,5,6,7,8,9]\n",
    "for i in a:\n",
    "    if i==4:\n",
    "        print(\"  * * *\")\n",
    "    elif i==5:\n",
    "        print(\" *     *\")\n",
    "    elif i==6:\n",
    "        print(\"  * * *\")\n",
    "    elif i==7:\n",
    "        print(\"      *\")\n",
    "    elif i==8:\n",
    "        print(\"  *   * \")\n",
    "    elif i==9:\n",
    "        print(\"   *** \")"
   ]
  },
  {
   "cell_type": "code",
   "execution_count": 34,
   "id": "d2653cfd",
   "metadata": {},
   "outputs": [
    {
     "name": "stdout",
     "output_type": "stream",
     "text": [
      " *\n",
      " *\n",
      " *\n",
      " * * *\n",
      " *    *\n",
      " *    *\n"
     ]
    }
   ],
   "source": [
    "a=[1,2,3,4,5,6,7,8,9]\n",
    "for i in a:\n",
    "    if i==4:\n",
    "        print(\" *\")\n",
    "    elif i==5:\n",
    "        print(\" *\")\n",
    "    elif i==6:\n",
    "        print(\" *\")\n",
    "    elif i==7:\n",
    "        print(\" * * *\")\n",
    "    elif i==8:\n",
    "        print(\" *    *\")\n",
    "    elif i==9:\n",
    "        print(\" *    *\")"
   ]
  },
  {
   "cell_type": "code",
   "execution_count": 35,
   "id": "5370352f",
   "metadata": {},
   "outputs": [
    {
     "name": "stdout",
     "output_type": "stream",
     "text": [
      " *\n",
      "\n",
      " *\n",
      " *\n",
      " *\n",
      " *\n"
     ]
    }
   ],
   "source": [
    "a=[1,2,3,4,5,6,7,8,9]\n",
    "for i in a:\n",
    "    if i==4:\n",
    "        print(\" *\")\n",
    "    elif i==5:\n",
    "        print(\"\")\n",
    "    elif i==6:\n",
    "        print(\" *\")\n",
    "    elif i==7:\n",
    "        print(\" *\")\n",
    "    elif i==8:\n",
    "        print(\" *\")\n",
    "    elif i==9:\n",
    "        print(\" *\")"
   ]
  },
  {
   "cell_type": "code",
   "execution_count": 36,
   "id": "4566328e",
   "metadata": {},
   "outputs": [
    {
     "name": "stdout",
     "output_type": "stream",
     "text": [
      "     * \n",
      "     \n",
      "     *\n",
      "     *\n",
      " *   *\n",
      "  * *\n"
     ]
    }
   ],
   "source": [
    "a=[1,2,3,4,5,6,7,8,9]\n",
    "for i in a:\n",
    "    if i==4:\n",
    "        print(\"     * \")\n",
    "    elif i==5:\n",
    "        print(\"     \")\n",
    "    elif i==6:\n",
    "        print(\"     *\")\n",
    "    elif i==7:\n",
    "        print(\"     *\")\n",
    "    elif i==8:\n",
    "        print(\" *   *\")\n",
    "    elif i==9:\n",
    "        print(\"  * *\")\n"
   ]
  },
  {
   "cell_type": "code",
   "execution_count": 39,
   "id": "772bd3d6",
   "metadata": {},
   "outputs": [
    {
     "name": "stdout",
     "output_type": "stream",
     "text": [
      " \n",
      " *\n",
      " *\n",
      " *   *\n",
      " * *  \n",
      " *   *\n"
     ]
    }
   ],
   "source": [
    "a=[1,2,3,4,5,6,7,8,9]\n",
    "for i in a:\n",
    "    if i==4:\n",
    "        print(\" \")\n",
    "    elif i==5:\n",
    "        print(\" *\")\n",
    "    elif i==6:\n",
    "        print(\" *\")\n",
    "    elif i==7:\n",
    "        print(\" *   *\")\n",
    "    elif i==8:\n",
    "        print(\" * *  \")\n",
    "    elif i==9:\n",
    "        print(\" *   *\")"
   ]
  },
  {
   "cell_type": "code",
   "execution_count": 40,
   "id": "132da3ff",
   "metadata": {},
   "outputs": [
    {
     "name": "stdout",
     "output_type": "stream",
     "text": [
      " \n",
      " *\n",
      " *\n",
      " *\n",
      " * \n",
      " *\n"
     ]
    }
   ],
   "source": [
    "a=[1,2,3,4,5,6,7,8,9]\n",
    "for i in a:\n",
    "    if i==4:\n",
    "        print(\" \")\n",
    "    elif i==5:\n",
    "        print(\" *\")\n",
    "    elif i==6:\n",
    "        print(\" *\")\n",
    "    elif i==7:\n",
    "        print(\" *\")\n",
    "    elif i==8:\n",
    "        print(\" * \")\n",
    "    elif i==9:\n",
    "        print(\" *\")"
   ]
  },
  {
   "cell_type": "code",
   "execution_count": 41,
   "id": "fc15c654",
   "metadata": {},
   "outputs": [
    {
     "name": "stdout",
     "output_type": "stream",
     "text": [
      "*\n",
      "   * * * * *\n",
      "  *    *    *\n",
      "  *    *    *\n",
      " \n",
      "\n"
     ]
    }
   ],
   "source": [
    "a=[1,2,3,4,5,6,7,8,9]\n",
    "for i in a:\n",
    "    if i==4:\n",
    "        print(\"*\")\n",
    "    elif i==5:\n",
    "        print(\"   * * * * *\")\n",
    "    elif i==6:\n",
    "        print(\"  *    *    *\")\n",
    "    elif i==7:\n",
    "        print(\"  *    *    *\")\n",
    "    elif i==8:\n",
    "        print(\" \")\n",
    "    elif i==9:\n",
    "        print(\"\")"
   ]
  },
  {
   "cell_type": "code",
   "execution_count": 42,
   "id": "996d5bae",
   "metadata": {},
   "outputs": [
    {
     "name": "stdout",
     "output_type": "stream",
     "text": [
      "* \n",
      " * * * \n",
      " *    *\n",
      " *    *\n",
      " \n",
      "\n"
     ]
    }
   ],
   "source": [
    "a=[1,2,3,4,5,6,7,8,9]\n",
    "for i in a:\n",
    "    if i==4:\n",
    "        print(\"* \")\n",
    "    elif i==5:\n",
    "        print(\" * * * \")\n",
    "    elif i==6:\n",
    "        print(\" *    *\")\n",
    "    elif i==7:\n",
    "        print(\" *    *\")\n",
    "    elif i==8:\n",
    "        print(\" \")\n",
    "    elif i==9:\n",
    "        print(\"\")"
   ]
  },
  {
   "cell_type": "code",
   "execution_count": 43,
   "id": "342afede",
   "metadata": {},
   "outputs": [
    {
     "name": "stdout",
     "output_type": "stream",
     "text": [
      "   * * * \n",
      " *       * \n",
      "   * * *\n",
      " \n",
      " \n",
      "\n"
     ]
    }
   ],
   "source": [
    "a=[1,2,3,4,5,6,7,8,9]\n",
    "for i in a:\n",
    "    if i==4:\n",
    "        print(\"   * * * \")\n",
    "    elif i==5:\n",
    "        print(\" *       * \")\n",
    "    elif i==6:\n",
    "        print(\"   * * *\")\n",
    "    elif i==7:\n",
    "        print(\" \")\n",
    "    elif i==8:\n",
    "        print(\" \")\n",
    "    elif i==9:\n",
    "        print(\"\")"
   ]
  },
  {
   "cell_type": "code",
   "execution_count": 44,
   "id": "736a92dc",
   "metadata": {},
   "outputs": [
    {
     "name": "stdout",
     "output_type": "stream",
     "text": [
      "*\n",
      "* * *  \n",
      "*     * \n",
      "* * * \n",
      "*\n",
      "*\n"
     ]
    }
   ],
   "source": [
    "a=[1,2,3,4,5,6,7,8,9]\n",
    "for i in a:\n",
    "    if i==4:\n",
    "        print(\"*\")\n",
    "    elif i==5:\n",
    "        print(\"* * *  \")\n",
    "    elif i==6:\n",
    "        print(\"*     * \")\n",
    "    elif i==7:\n",
    "        print(\"* * * \")\n",
    "    elif i==8:\n",
    "        print(\"*\")\n",
    "    elif i==9:\n",
    "        print(\"*\")\n",
    "    elif i==10:\n",
    "        print(\"\")    "
   ]
  },
  {
   "cell_type": "code",
   "execution_count": 47,
   "id": "4334989b",
   "metadata": {},
   "outputs": [
    {
     "name": "stdout",
     "output_type": "stream",
     "text": [
      " * * * \n",
      "*      * \n",
      "  * * *\n",
      "       *\n",
      "       *  *\n",
      "       *\n"
     ]
    }
   ],
   "source": [
    "a=[1,2,3,4,5,6,7,8,9]\n",
    "for i in a:\n",
    "    if i==4:\n",
    "        print(\" * * * \")\n",
    "    elif i==5:\n",
    "        print(\"*      * \")\n",
    "    elif i==6:\n",
    "        print(\"  * * *\")\n",
    "    elif i==7:\n",
    "        print(\"       *\")\n",
    "    elif i==8:\n",
    "        print(\"       *  *\")\n",
    "    elif i==9:\n",
    "        print(\"       *\")"
   ]
  },
  {
   "cell_type": "code",
   "execution_count": 50,
   "id": "42e07320",
   "metadata": {},
   "outputs": [
    {
     "name": "stdout",
     "output_type": "stream",
     "text": [
      "* * * \n",
      "**   *\n",
      "*    \n",
      "*    \n",
      " \n",
      "\n"
     ]
    }
   ],
   "source": [
    "a=[1,2,3,4,5,6,7,8,9]\n",
    "for i in a:\n",
    "    if i==4:\n",
    "        print(\"* * * \")\n",
    "    elif i==5:\n",
    "        print(\"**   *\")\n",
    "    elif i==6:\n",
    "        print(\"*    \")\n",
    "    elif i==7:\n",
    "        print(\"*    \")\n",
    "    elif i==8:\n",
    "        print(\" \")\n",
    "    elif i==9:\n",
    "        print(\"\")"
   ]
  },
  {
   "cell_type": "code",
   "execution_count": 51,
   "id": "451572f7",
   "metadata": {},
   "outputs": [
    {
     "name": "stdout",
     "output_type": "stream",
     "text": [
      " * * * \n",
      "* \n",
      " * * *\n",
      "      *\n",
      " * * *\n",
      "\n"
     ]
    }
   ],
   "source": [
    "a=[1,2,3,4,5,6,7,8,9]\n",
    "for i in a:\n",
    "    if i==4:\n",
    "        print(\" * * * \")\n",
    "    elif i==5:\n",
    "        print(\"* \")\n",
    "    elif i==6:\n",
    "        print(\" * * *\")\n",
    "    elif i==7:\n",
    "        print(\"      *\")\n",
    "    elif i==8:\n",
    "        print(\" * * *\")\n",
    "    elif i==9:\n",
    "        print(\"\")"
   ]
  },
  {
   "cell_type": "code",
   "execution_count": 54,
   "id": "1c3f8771",
   "metadata": {},
   "outputs": [
    {
     "name": "stdout",
     "output_type": "stream",
     "text": [
      "     * \n",
      "     * \n",
      "   * * *\n",
      "     *\n",
      "     *   *\n",
      "      * *  \n"
     ]
    }
   ],
   "source": [
    "a=[1,2,3,4,5,6,7,8,9]\n",
    "for i in a:\n",
    "    if i==4:\n",
    "        print(\"     * \")\n",
    "    elif i==5:\n",
    "        print(\"     * \")\n",
    "    elif i==6:\n",
    "        print(\"   * * *\")\n",
    "    elif i==7:\n",
    "        print(\"     *\")\n",
    "    elif i==8:\n",
    "        print(\"     *   *\")\n",
    "    elif i==9:\n",
    "        print(\"      * *  \")"
   ]
  },
  {
   "cell_type": "code",
   "execution_count": 55,
   "id": "c469fe97",
   "metadata": {},
   "outputs": [
    {
     "name": "stdout",
     "output_type": "stream",
     "text": [
      "*     * \n",
      "*     *\n",
      "*     *\n",
      " * * * *\n",
      "\n",
      "\n"
     ]
    }
   ],
   "source": [
    "a=[1,2,3,4,5,6,7,8,9]\n",
    "for i in a:\n",
    "    if i==4:\n",
    "        print(\"*     * \")\n",
    "    elif i==5:\n",
    "        print(\"*     *\")\n",
    "    elif i==6:\n",
    "        print(\"*     *\")\n",
    "    elif i==7:\n",
    "        print(\" * * * *\")\n",
    "    elif i==8:\n",
    "        print(\"\")\n",
    "    elif i==9:\n",
    "        print(\"\")"
   ]
  },
  {
   "cell_type": "code",
   "execution_count": 56,
   "id": "d945e3e2",
   "metadata": {},
   "outputs": [
    {
     "name": "stdout",
     "output_type": "stream",
     "text": [
      "*     *\n",
      " *   * \n",
      "  * *\n",
      "   *\n",
      "\n",
      "\n"
     ]
    }
   ],
   "source": [
    "a=[1,2,3,4,5,6,7,8,9]\n",
    "for i in a:\n",
    "    if i==4:\n",
    "        print(\"*     *\")\n",
    "    elif i==5:\n",
    "        print(\" *   * \")\n",
    "    elif i==6:\n",
    "        print(\"  * *\")\n",
    "    elif i==7:\n",
    "        print(\"   *\")\n",
    "    elif i==8:\n",
    "        print(\"\")\n",
    "    elif i==9:\n",
    "        print(\"\")"
   ]
  },
  {
   "cell_type": "code",
   "execution_count": 57,
   "id": "8a7d8194",
   "metadata": {},
   "outputs": [
    {
     "name": "stdout",
     "output_type": "stream",
     "text": [
      "*             * \n",
      "*             *\n",
      "*      *      *\n",
      "*     * *     *\n",
      " * * *   * * *\n",
      "\n"
     ]
    }
   ],
   "source": [
    "a=[1,2,3,4,5,6,7,8,9]\n",
    "for i in a:\n",
    "    if i==4:\n",
    "        print(\"*             * \")\n",
    "    elif i==5:\n",
    "        print(\"*             *\")\n",
    "    elif i==6:\n",
    "        print(\"*      *      *\")\n",
    "    elif i==7:\n",
    "        print(\"*     * *     *\")\n",
    "    elif i==8:\n",
    "        print(\" * * *   * * *\")\n",
    "    elif i==9:\n",
    "        print(\"\")"
   ]
  },
  {
   "cell_type": "code",
   "execution_count": 58,
   "id": "c37d9afc",
   "metadata": {},
   "outputs": [
    {
     "name": "stdout",
     "output_type": "stream",
     "text": [
      "*   * \n",
      " * *\n",
      "  * \n",
      " * *\n",
      "*   *\n",
      "\n"
     ]
    }
   ],
   "source": [
    "a=[1,2,3,4,5,6,7,8,9]\n",
    "for i in a:\n",
    "    if i==4:\n",
    "        print(\"*   * \")\n",
    "    elif i==5:\n",
    "        print(\" * *\")\n",
    "    elif i==6:\n",
    "        print(\"  * \")\n",
    "    elif i==7:\n",
    "        print(\" * *\")\n",
    "    elif i==8:\n",
    "        print(\"*   *\")\n",
    "    elif i==9:\n",
    "        print(\"\")"
   ]
  },
  {
   "cell_type": "code",
   "execution_count": 59,
   "id": "77cfe3b6",
   "metadata": {},
   "outputs": [
    {
     "name": "stdout",
     "output_type": "stream",
     "text": [
      "*    * \n",
      "*    *\n",
      " * * *\n",
      "     *\n",
      "*    *\n",
      " *  * \n"
     ]
    }
   ],
   "source": [
    "a=[1,2,3,4,5,6,7,8,9]\n",
    "for i in a:\n",
    "    if i==4:\n",
    "        print(\"*    * \")\n",
    "    elif i==5:\n",
    "        print(\"*    *\")\n",
    "    elif i==6:\n",
    "        print(\" * * *\")\n",
    "    elif i==7:\n",
    "        print(\"     *\")\n",
    "    elif i==8:\n",
    "        print(\"*    *\")\n",
    "    elif i==9:\n",
    "        print(\" *  * \")"
   ]
  },
  {
   "cell_type": "code",
   "execution_count": 62,
   "id": "18450008",
   "metadata": {},
   "outputs": [
    {
     "name": "stdout",
     "output_type": "stream",
     "text": [
      " * * * *\n",
      "    * \n",
      " * * * *\n",
      "      \n",
      " \n",
      "\n"
     ]
    }
   ],
   "source": [
    "a=[1,2,3,4,5,6,7,8,9]\n",
    "for i in a:\n",
    "    if i==4:\n",
    "        print(\" * * * *\")\n",
    "    elif i==5:\n",
    "        print(\"    * \")\n",
    "    elif i==6:\n",
    "        print(\" * * * *\")\n",
    "    elif i==7:\n",
    "        print(\"      \")\n",
    "    elif i==8:\n",
    "        print(\" \")\n",
    "    elif i==9:\n",
    "        print(\"\")"
   ]
  },
  {
   "cell_type": "code",
   "execution_count": null,
   "id": "910001b6",
   "metadata": {},
   "outputs": [],
   "source": []
  }
 ],
 "metadata": {
  "kernelspec": {
   "display_name": "Python 3 (ipykernel)",
   "language": "python",
   "name": "python3"
  },
  "language_info": {
   "codemirror_mode": {
    "name": "ipython",
    "version": 3
   },
   "file_extension": ".py",
   "mimetype": "text/x-python",
   "name": "python",
   "nbconvert_exporter": "python",
   "pygments_lexer": "ipython3",
   "version": "3.9.13"
  }
 },
 "nbformat": 4,
 "nbformat_minor": 5
}
