{
 "cells": [
  {
   "cell_type": "code",
   "execution_count": 1,
   "id": "b3e4d4e1",
   "metadata": {},
   "outputs": [
    {
     "name": "stdout",
     "output_type": "stream",
     "text": [
      "****\n",
      "*  *\n",
      "****\n",
      "*  *\n",
      "*  *\n"
     ]
    }
   ],
   "source": [
    "a=1\n",
    "while a<=5:\n",
    "    if a==1:\n",
    "        print(\"****\")\n",
    "    elif a==2:\n",
    "        print(\"*  *\")\n",
    "    elif a==3:\n",
    "        print(\"****\")\n",
    "    elif a==4:\n",
    "        print(\"*  *\")\n",
    "    elif a==5:\n",
    "        print(\"*  *\")\n",
    "    a=a+1"
   ]
  },
  {
   "cell_type": "code",
   "execution_count": 4,
   "id": "f4af21f4",
   "metadata": {},
   "outputs": [
    {
     "name": "stdout",
     "output_type": "stream",
     "text": [
      "*****\n",
      "*    *\n",
      "*****\n",
      "*    *\n",
      "*****\n"
     ]
    }
   ],
   "source": [
    "a=1\n",
    "while a<=5:\n",
    "    if a==1:\n",
    "        print(\"*****\")\n",
    "    elif a==2:\n",
    "        print(\"*    *\")\n",
    "    elif a==3:\n",
    "        print(\"*****\")\n",
    "    elif a==4:\n",
    "        print(\"*    *\")\n",
    "    elif a==5:\n",
    "        print(\"*****\")\n",
    "    a=a+1"
   ]
  },
  {
   "cell_type": "code",
   "execution_count": 6,
   "id": "1787e064",
   "metadata": {},
   "outputs": [
    {
     "name": "stdout",
     "output_type": "stream",
     "text": [
      "   *****\n",
      " *\n",
      "*\n",
      "*\n",
      " *\n",
      "   *****\n"
     ]
    }
   ],
   "source": [
    "a=1\n",
    "while a<=6:\n",
    "    if a==1:\n",
    "        print(\"   *****\")\n",
    "    elif a==2:\n",
    "        print(\" *\")\n",
    "    elif a==3:\n",
    "        print(\"*\")\n",
    "    elif a==4:\n",
    "        print(\"*\")\n",
    "    elif a==5:\n",
    "        print(\" *\")\n",
    "    elif a==6:\n",
    "        print(\"   *****\")\n",
    "    a=a+1"
   ]
  },
  {
   "cell_type": "code",
   "execution_count": 8,
   "id": "5b10bfbb",
   "metadata": {},
   "outputs": [
    {
     "name": "stdout",
     "output_type": "stream",
     "text": [
      "*****\n",
      "*    *\n",
      "*     *\n",
      "*    *\n",
      "*****\n"
     ]
    }
   ],
   "source": [
    "a=1\n",
    "while a<=5:\n",
    "    if a==1:\n",
    "        print(\"*****\")\n",
    "    elif a==2:\n",
    "        print(\"*    *\")\n",
    "    elif a==3:\n",
    "        print(\"*     *\")\n",
    "    elif a==4:\n",
    "        print(\"*    *\")\n",
    "    elif a==5:\n",
    "        print(\"*****\")\n",
    "    a=a+1"
   ]
  },
  {
   "cell_type": "code",
   "execution_count": 9,
   "id": "98820c96",
   "metadata": {},
   "outputs": [
    {
     "name": "stdout",
     "output_type": "stream",
     "text": [
      "*****\n",
      "*\n",
      "*****\n",
      "*\n",
      "*****\n"
     ]
    }
   ],
   "source": [
    "a=1\n",
    "while a<=5:\n",
    "    if a==1:\n",
    "        print(\"*****\")\n",
    "    elif a==2:\n",
    "        print(\"*\")\n",
    "    elif a==3:\n",
    "        print(\"*****\")\n",
    "    elif a==4:\n",
    "        print(\"*\")\n",
    "    elif a==5:\n",
    "        print(\"*****\")\n",
    "    a=a+1"
   ]
  },
  {
   "cell_type": "code",
   "execution_count": 10,
   "id": "204f0858",
   "metadata": {},
   "outputs": [
    {
     "name": "stdout",
     "output_type": "stream",
     "text": [
      "****\n",
      "*\n",
      "****\n",
      "*\n",
      "*\n"
     ]
    }
   ],
   "source": [
    "a=1\n",
    "while a<=5:\n",
    "    if a==1:\n",
    "        print(\"****\")\n",
    "    elif a==2:\n",
    "        print(\"*\")\n",
    "    elif a==3:\n",
    "        print(\"****\")\n",
    "    elif a==4:\n",
    "        print(\"*\")\n",
    "    elif a==5:\n",
    "        print(\"*\")\n",
    "    a=a+1"
   ]
  },
  {
   "cell_type": "code",
   "execution_count": 25,
   "id": "fbbee54a",
   "metadata": {},
   "outputs": [
    {
     "name": "stdout",
     "output_type": "stream",
     "text": [
      " ******\n",
      "*      *\n",
      "*\n",
      "*     *****\n",
      "*     *   *\n",
      " *****    *\n"
     ]
    }
   ],
   "source": [
    "a=1\n",
    "while a<=6:\n",
    "    if a==1:\n",
    "        print(\" ******\")\n",
    "    elif a==2:\n",
    "        print(\"*      *\")\n",
    "    elif a==3:\n",
    "        print(\"*\")\n",
    "    elif a==4:\n",
    "        print(\"*     *****\")\n",
    "    elif a==5:\n",
    "        print(\"*     *   *\")\n",
    "    elif a==6:\n",
    "        print(\" *****    *\")\n",
    "    a=a+1"
   ]
  },
  {
   "cell_type": "code",
   "execution_count": 1,
   "id": "970835ab",
   "metadata": {},
   "outputs": [
    {
     "name": "stdout",
     "output_type": "stream",
     "text": [
      "*      *\n",
      "*      *\n",
      "********\n",
      "*      *\n",
      "*      *\n"
     ]
    }
   ],
   "source": [
    "a=1\n",
    "while a<=10:\n",
    "    if a==1:\n",
    "        print(\"*      *\")\n",
    "    elif a==2:\n",
    "        print(\"*      *\")\n",
    "    elif a==3:\n",
    "        print(\"********\")\n",
    "    elif a==4:\n",
    "        print(\"*      *\")\n",
    "    elif a==5:\n",
    "        print(\"*      *\")\n",
    "    a=a+1"
   ]
  },
  {
   "cell_type": "code",
   "execution_count": 3,
   "id": "5c7f4227",
   "metadata": {},
   "outputs": [
    {
     "name": "stdout",
     "output_type": "stream",
     "text": [
      "*********\n",
      "    *\n",
      "    *\n",
      "    *\n",
      "*********\n"
     ]
    }
   ],
   "source": [
    "a=1\n",
    "while a<=5:\n",
    "    if a==1:\n",
    "        print(\"*********\")\n",
    "    elif a==2:\n",
    "        print(\"    *\")\n",
    "    elif a==3:\n",
    "        print(\"    *\")\n",
    "    elif a==4:\n",
    "        print(\"    *\")\n",
    "    elif a==5:\n",
    "        print(\"*********\")\n",
    "    a=a+1"
   ]
  },
  {
   "cell_type": "code",
   "execution_count": 39,
   "id": "63772aac",
   "metadata": {},
   "outputs": [
    {
     "name": "stdout",
     "output_type": "stream",
     "text": [
      " ******\n",
      "    *\n",
      "    *\n",
      "*   *\n",
      " ***\n"
     ]
    }
   ],
   "source": [
    "a=1\n",
    "while a<=5:\n",
    "    if a==1:\n",
    "        print(\" ******\")\n",
    "    elif a==2:\n",
    "        print(\"    *\")\n",
    "    elif a==3:\n",
    "        print(\"    *\")\n",
    "    elif a==4:\n",
    "        print(\"*   *\")\n",
    "    elif a==5:\n",
    "        print(\" ***\")\n",
    "    a=a+1"
   ]
  },
  {
   "cell_type": "code",
   "execution_count": 12,
   "id": "ebeaf98f",
   "metadata": {},
   "outputs": [
    {
     "name": "stdout",
     "output_type": "stream",
     "text": [
      "*       *\n",
      "*     *\n",
      "*  *\n",
      "*     *\n",
      "*       *\n"
     ]
    }
   ],
   "source": [
    "a=1\n",
    "while a<=5:\n",
    "    if a==1:\n",
    "        print(\"*       *\")\n",
    "    elif a==2:\n",
    "        print(\"*     *\")\n",
    "    elif a==3:\n",
    "        print(\"*  *\")\n",
    "    elif a==4:\n",
    "        print(\"*     *\")\n",
    "    elif a==5:\n",
    "        print(\"*       *\")\n",
    "    a=a+1"
   ]
  },
  {
   "cell_type": "code",
   "execution_count": 15,
   "id": "9647c763",
   "metadata": {},
   "outputs": [
    {
     "name": "stdout",
     "output_type": "stream",
     "text": [
      "*\n",
      "*\n",
      "*\n",
      "*\n",
      "******\n"
     ]
    }
   ],
   "source": [
    "a=1\n",
    "while a<=5:\n",
    "    if a==1:\n",
    "        print(\"*\")\n",
    "    elif a==2:\n",
    "        print(\"*\")\n",
    "    elif a==3:\n",
    "        print(\"*\")\n",
    "    elif a==4:\n",
    "        print(\"*\")\n",
    "    elif a==5:\n",
    "        print(\"******\")\n",
    "    a=a+1"
   ]
  },
  {
   "cell_type": "code",
   "execution_count": 30,
   "id": "c2a6d0ad",
   "metadata": {},
   "outputs": [
    {
     "name": "stdout",
     "output_type": "stream",
     "text": [
      "*         *\n",
      "* *     * *\n",
      "*    *    *\n",
      "*         *\n",
      "*         *\n"
     ]
    }
   ],
   "source": [
    "a=1\n",
    "while a<=5:\n",
    "    if a==1:\n",
    "        print(\"*         *\")\n",
    "    elif a==2:\n",
    "        print(\"* *     * *\")\n",
    "    elif a==3:\n",
    "        print(\"*    *    *\")\n",
    "    elif a==4:\n",
    "        print(\"*         *\")\n",
    "    elif a==5:\n",
    "        print(\"*         *\")\n",
    "    a=a+1"
   ]
  },
  {
   "cell_type": "code",
   "execution_count": 34,
   "id": "4db96341",
   "metadata": {},
   "outputs": [
    {
     "name": "stdout",
     "output_type": "stream",
     "text": [
      "*        *\n",
      "* *      *\n",
      "*   *    *\n",
      "*     *  *\n",
      "*        *\n"
     ]
    }
   ],
   "source": [
    "a=1\n",
    "while a<=5:\n",
    "    if a==1:\n",
    "        print(\"*        *\")\n",
    "    elif a==2:\n",
    "        print(\"* *      *\")\n",
    "    elif a==3:\n",
    "        print(\"*   *    *\")\n",
    "    elif a==4:\n",
    "        print(\"*     *  *\")\n",
    "    elif a==5:\n",
    "        print(\"*        *\")\n",
    "    a=a+1"
   ]
  },
  {
   "cell_type": "code",
   "execution_count": 36,
   "id": "f8796616",
   "metadata": {},
   "outputs": [
    {
     "name": "stdout",
     "output_type": "stream",
     "text": [
      "  * * * * \n",
      "*         *\n",
      "*         *\n",
      "*         *\n",
      "  * * * * \n"
     ]
    }
   ],
   "source": [
    "a=1\n",
    "while a<=5:\n",
    "    if a==1:\n",
    "        print(\"  * * * * \")\n",
    "    elif a==2:\n",
    "        print(\"*         *\")\n",
    "    elif a==3:\n",
    "        print(\"*         *\")\n",
    "    elif a==4:\n",
    "        print(\"*         *\")\n",
    "    elif a==5:\n",
    "        print(\"  * * * * \")\n",
    "    a=a+1"
   ]
  },
  {
   "cell_type": "code",
   "execution_count": 38,
   "id": "841de3df",
   "metadata": {},
   "outputs": [
    {
     "name": "stdout",
     "output_type": "stream",
     "text": [
      "* * * *\n",
      "*      *\n",
      "* * * *\n",
      "*\n",
      "*\n"
     ]
    }
   ],
   "source": [
    "a=1\n",
    "while a<=5:\n",
    "    if a==1:\n",
    "        print(\"* * * *\")\n",
    "    elif a==2:\n",
    "        print(\"*      *\")\n",
    "    elif a==3:\n",
    "        print(\"* * * *\")\n",
    "    elif a==4:\n",
    "        print(\"*\")\n",
    "    elif a==5:\n",
    "        print(\"*\")\n",
    "    a=a+1"
   ]
  },
  {
   "cell_type": "code",
   "execution_count": 44,
   "id": "e0b83135",
   "metadata": {},
   "outputs": [
    {
     "name": "stdout",
     "output_type": "stream",
     "text": [
      " * * * * \n",
      "*       *\n",
      "*   *   *\n",
      "*     * *\n",
      " * * * **\n",
      "          *\n"
     ]
    }
   ],
   "source": [
    "a=1\n",
    "while a<=6:\n",
    "    if a==1:\n",
    "        print(\" * * * * \")\n",
    "    elif a==2:\n",
    "        print(\"*       *\")\n",
    "    elif a==3:\n",
    "        print(\"*   *   *\")\n",
    "    elif a==4:\n",
    "        print(\"*     * *\")\n",
    "    elif a==5:\n",
    "        print(\" * * * **\")\n",
    "    elif a==6:\n",
    "        print(\"          *\")\n",
    "    a=a+1"
   ]
  },
  {
   "cell_type": "code",
   "execution_count": 51,
   "id": "be00b38f",
   "metadata": {},
   "outputs": [
    {
     "name": "stdout",
     "output_type": "stream",
     "text": [
      "* * * * \n",
      "*      *\n",
      "* * * *\n",
      "*      *\n",
      "*       *\n"
     ]
    }
   ],
   "source": [
    "a=1\n",
    "while a<=5:\n",
    "    if a==1:\n",
    "        print(\"* * * * \")\n",
    "    elif a==2:\n",
    "        print(\"*      *\")\n",
    "    elif a==3:\n",
    "        print(\"* * * *\")\n",
    "    elif a==4:\n",
    "        print(\"*      *\")\n",
    "    elif a==5:\n",
    "        print(\"*       *\")\n",
    "    a=a+1"
   ]
  },
  {
   "cell_type": "code",
   "execution_count": 59,
   "id": "06ddf14f",
   "metadata": {},
   "outputs": [
    {
     "name": "stdout",
     "output_type": "stream",
     "text": [
      " * * * * *\n",
      "*\n",
      "  * * * *\n",
      "         *\n",
      "* * * * *\n"
     ]
    }
   ],
   "source": [
    "a=1\n",
    "while a<=5:\n",
    "    if a==1:\n",
    "        print(\" * * * * *\")\n",
    "    elif a==2:\n",
    "        print(\"*\")\n",
    "    elif a==3:\n",
    "        print(\"  * * * *\")\n",
    "    elif a==4:\n",
    "        print(\"         *\")\n",
    "    elif a==5:\n",
    "        print(\"* * * * *\")\n",
    "    a=a+1"
   ]
  },
  {
   "cell_type": "code",
   "execution_count": 60,
   "id": "8a11ac69",
   "metadata": {},
   "outputs": [
    {
     "name": "stdout",
     "output_type": "stream",
     "text": [
      "* * * * *\n",
      "    *\n",
      "    *\n",
      "    *  \n",
      "    *\n"
     ]
    }
   ],
   "source": [
    "a=1\n",
    "while a<=5:\n",
    "    if a==1:\n",
    "        print(\"* * * * *\")\n",
    "    elif a==2:\n",
    "        print(\"    *\")\n",
    "    elif a==3:\n",
    "        print(\"    *\")\n",
    "    elif a==4:\n",
    "        print(\"    *  \")\n",
    "    elif a==5:\n",
    "        print(\"    *\")\n",
    "    a=a+1"
   ]
  },
  {
   "cell_type": "code",
   "execution_count": 61,
   "id": "d4126a15",
   "metadata": {},
   "outputs": [
    {
     "name": "stdout",
     "output_type": "stream",
     "text": [
      "*       *\n",
      "*       *\n",
      "*       *\n",
      "*       *\n",
      " * * * *\n"
     ]
    }
   ],
   "source": [
    "a=1\n",
    "while a<=5:\n",
    "    if a==1:\n",
    "        print(\"*       *\")\n",
    "    elif a==2:\n",
    "        print(\"*       *\")\n",
    "    elif a==3:\n",
    "        print(\"*       *\")\n",
    "    elif a==4:\n",
    "        print(\"*       *\")\n",
    "    elif a==5:\n",
    "        print(\" * * * *\")\n",
    "    a=a+1"
   ]
  },
  {
   "cell_type": "code",
   "execution_count": 62,
   "id": "ad2a17fd",
   "metadata": {},
   "outputs": [
    {
     "name": "stdout",
     "output_type": "stream",
     "text": [
      "*       *\n",
      " *     *\n",
      "  *   *\n",
      "   * * \n",
      "    *\n"
     ]
    }
   ],
   "source": [
    "a=1\n",
    "while a<=5:\n",
    "    if a==1:\n",
    "        print(\"*       *\")\n",
    "    elif a==2:\n",
    "        print(\" *     *\")\n",
    "    elif a==3:\n",
    "        print(\"  *   *\")\n",
    "    elif a==4:\n",
    "        print(\"   * * \")\n",
    "    elif a==5:\n",
    "        print(\"    *\")\n",
    "    a=a+1"
   ]
  },
  {
   "cell_type": "code",
   "execution_count": 85,
   "id": "a8a7d9a3",
   "metadata": {},
   "outputs": [
    {
     "name": "stdout",
     "output_type": "stream",
     "text": [
      "*                 *\n",
      " *               *\n",
      "  *      *      *\n",
      "   *   *   *   *\n",
      "    * *     * *\n",
      "     *       *\n"
     ]
    }
   ],
   "source": [
    "a=1\n",
    "while a<=6:\n",
    "    if a==1:\n",
    "        print(\"*                 *\")\n",
    "    elif a==2:\n",
    "        print(\" *               *\")\n",
    "    elif a==3:\n",
    "        print(\"  *      *      *\")\n",
    "    elif a==4:\n",
    "        print(\"   *   *   *   *\")\n",
    "    elif a==5:\n",
    "        print(\"    * *     * *\")\n",
    "    elif a==6:\n",
    "        print(\"     *       *\")\n",
    "    a=a+1"
   ]
  },
  {
   "cell_type": "code",
   "execution_count": 89,
   "id": "d535ebd8",
   "metadata": {},
   "outputs": [
    {
     "name": "stdout",
     "output_type": "stream",
     "text": [
      "*       *\n",
      "  *   *\n",
      "    *\n",
      "  *   *\n",
      "*       *\n"
     ]
    }
   ],
   "source": [
    "a=1\n",
    "while a<=5:\n",
    "    if a==1:\n",
    "        print(\"*       *\")\n",
    "    elif a==2:\n",
    "        print(\"  *   *\")\n",
    "    elif a==3:\n",
    "        print(\"    *\")\n",
    "    elif a==4:\n",
    "        print(\"  *   *\")\n",
    "    elif a==5:\n",
    "        print(\"*       *\")\n",
    "    a=a+1"
   ]
  },
  {
   "cell_type": "code",
   "execution_count": 94,
   "id": "598a83db",
   "metadata": {},
   "outputs": [
    {
     "name": "stdout",
     "output_type": "stream",
     "text": [
      "*       *\n",
      " *     *\n",
      "   * *\n",
      "    *\n",
      "    *\n"
     ]
    }
   ],
   "source": [
    "a=1\n",
    "while a<=5:\n",
    "    if a==1:\n",
    "        print(\"*       *\")\n",
    "    elif a==2:\n",
    "        print(\" *     *\")\n",
    "    elif a==3:\n",
    "        print(\"   * *\")\n",
    "    elif a==4:\n",
    "        print(\"    *\")\n",
    "    elif a==5:\n",
    "        print(\"    *\")\n",
    "    a=a+1"
   ]
  },
  {
   "cell_type": "code",
   "execution_count": 99,
   "id": "c30008bd",
   "metadata": {},
   "outputs": [
    {
     "name": "stdout",
     "output_type": "stream",
     "text": [
      "* * * * *\n",
      "      *\n",
      "    *\n",
      "  *\n",
      "* * * * *\n"
     ]
    }
   ],
   "source": [
    "a=1\n",
    "while a<=5:\n",
    "    if a==1:\n",
    "        print(\"* * * * *\")\n",
    "    elif a==2:\n",
    "        print(\"      *\")\n",
    "    elif a==3:\n",
    "        print(\"    *\")\n",
    "    elif a==4:\n",
    "        print(\"  *\")\n",
    "    elif a==5:\n",
    "        print(\"* * * * *\")\n",
    "    a=a+1 "
   ]
  },
  {
   "cell_type": "code",
   "execution_count": null,
   "id": "259de8f4",
   "metadata": {},
   "outputs": [],
   "source": []
  }
 ],
 "metadata": {
  "kernelspec": {
   "display_name": "Python 3 (ipykernel)",
   "language": "python",
   "name": "python3"
  },
  "language_info": {
   "codemirror_mode": {
    "name": "ipython",
    "version": 3
   },
   "file_extension": ".py",
   "mimetype": "text/x-python",
   "name": "python",
   "nbconvert_exporter": "python",
   "pygments_lexer": "ipython3",
   "version": "3.9.13"
  }
 },
 "nbformat": 4,
 "nbformat_minor": 5
}
