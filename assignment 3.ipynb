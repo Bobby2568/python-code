{
 "cells": [
  {
   "cell_type": "code",
   "execution_count": 5,
   "id": "e8f02697",
   "metadata": {},
   "outputs": [
    {
     "name": "stdout",
     "output_type": "stream",
     "text": [
      "1\n",
      "2\n",
      "4\n",
      "5\n"
     ]
    }
   ],
   "source": [
    "#1) Write a Python program that prints all the numbers from 0 to 6 except 3 and 6.\n",
    "#method1\n",
    "for i in range(1,7):\n",
    "    if i==3:\n",
    "        continue\n",
    "    elif i==6:\n",
    "        continue\n",
    "    print(i)"
   ]
  },
  {
   "cell_type": "code",
   "execution_count": 1,
   "id": "b24b0ce5",
   "metadata": {},
   "outputs": [
    {
     "name": "stdout",
     "output_type": "stream",
     "text": [
      "enter a number6\n",
      "1\n",
      "2\n",
      "4\n",
      "5\n"
     ]
    }
   ],
   "source": [
    "#method2\n",
    "n=0\n",
    "a=int(input(\"enter a number\"))\n",
    "while n<=a:\n",
    "    n=n+1\n",
    "    if n==3:\n",
    "        continue\n",
    "    elif n==6:\n",
    "        continue\n",
    "    elif n>a:\n",
    "        break\n",
    "    print(n)"
   ]
  },
  {
   "cell_type": "code",
   "execution_count": 31,
   "id": "529f65c8",
   "metadata": {},
   "outputs": [
    {
     "name": "stdout",
     "output_type": "stream",
     "text": [
      "enter a number7\n",
      "28\n"
     ]
    }
   ],
   "source": [
    "#2) Write a program to accept a number from a user and calculate the sum of all numbers from 1 to a given number\n",
    "n=int(input(\"enter a number\"))\n",
    "for i in range(1,n):\n",
    "    n=n+i\n",
    "print(n)"
   ]
  },
  {
   "cell_type": "code",
   "execution_count": 13,
   "id": "648b64e7",
   "metadata": {},
   "outputs": [
    {
     "name": "stdout",
     "output_type": "stream",
     "text": [
      "enter a number2\n",
      "2*1=2\n",
      "2*2=4\n",
      "2*3=6\n",
      "2*4=8\n",
      "2*5=10\n",
      "2*6=12\n",
      "2*7=14\n",
      "2*8=16\n",
      "2*9=18\n",
      "2*10=20\n"
     ]
    }
   ],
   "source": [
    "#3) Write a program to print multiplication table of a given number(input)\n",
    "num=int(input(\"enter a number\"))\n",
    "for i in range(1,11):\n",
    "    n=num*i\n",
    "    print(\"{}*{}={}\".format(num,i,n))"
   ]
  },
  {
   "cell_type": "code",
   "execution_count": 1,
   "id": "dd67a8b6",
   "metadata": {},
   "outputs": [
    {
     "name": "stdout",
     "output_type": "stream",
     "text": [
      "The number of didgits : 5\n"
     ]
    }
   ],
   "source": [
    "#4) Write a program to count the total number of digits in a number using a while loop. \n",
    "#For example, the number is 75869, so the output should be 5\n",
    "n=75869\n",
    "c=0\n",
    "while n>0:\n",
    "    c+=1\n",
    "    n//=10\n",
    "print(\"The number of didgits :\",c)\n",
    "    "
   ]
  },
  {
   "cell_type": "code",
   "execution_count": 2,
   "id": "13de2ec5",
   "metadata": {},
   "outputs": [
    {
     "name": "stdout",
     "output_type": "stream",
     "text": [
      "enter a number1\n",
      "guess wrong\n",
      "enter a number2\n",
      "guess wrong\n",
      "enter a number3\n",
      "guess wrong\n",
      "enter a number5\n",
      "guess wrong\n",
      "enter a number4\n",
      "right guess\n"
     ]
    }
   ],
   "source": [
    "#5) Write a Python program to guess a number between 1 to\n",
    "#Example:\n",
    "#User is prompted to enter a guess. If the user guesses wrong then the prompt appears again until the guess is correct, on\n",
    "#successful guess, user will get a \"Well guessed!\" message, and the program will exit.\n",
    "s=0\n",
    "while s!=4:\n",
    "    s=int(input(\"enter a number\"))\n",
    "    if s==1:\n",
    "        print(\"guess wrong\")\n",
    "    elif s==2:\n",
    "        print(\"guess wrong\")\n",
    "    elif s==3:\n",
    "        print(\"guess wrong\")\n",
    "    elif s==5:\n",
    "        print(\"guess wrong\")\n",
    "    else:\n",
    "        print(\"right guess\")\n",
    "        \n",
    "        \n"
   ]
  },
  {
   "cell_type": "code",
   "execution_count": 29,
   "id": "262c6f47",
   "metadata": {},
   "outputs": [
    {
     "name": "stdout",
     "output_type": "stream",
     "text": [
      "Fizz\n",
      "Buzz\n",
      "Fizz\n",
      "Fizz\n",
      "Buzz\n",
      "Fizz\n",
      "FizzBuzz\n",
      "Fizz\n",
      "Buzz\n",
      "Fizz\n",
      "Fizz\n",
      "Buzz\n",
      "Fizz\n",
      "FizzBuzz\n",
      "Fizz\n",
      "Buzz\n",
      "Fizz\n",
      "Fizz\n",
      "Buzz\n",
      "Fizz\n",
      "FizzBuzz\n",
      "Fizz\n",
      "Buzz\n",
      "Fizz\n",
      "Fizz\n",
      "Buzz\n",
      "Fizz\n",
      "FizzBuzz\n"
     ]
    }
   ],
   "source": [
    "#6) Write a Python program which iterates the integers from 1 to 60. For multiples of three print \"Fizz\" instead of the\n",
    "#number and for the multiples of five print \"Buzz\". For numbers which are multiples of both three and five print \"FizzBuzz\".\n",
    "a=[]\n",
    "for i in range(1,61):\n",
    "    if i%5==0 and i%3==0:\n",
    "        a.append(i)\n",
    "        print(\"FizzBuzz\")\n",
    "    elif i%5==0:\n",
    "        a.append(i)\n",
    "        print(\"Buzz\")\n",
    "    elif i%3==0:\n",
    "        a.append(i)\n",
    "        print(\"Fizz\")\n",
    "        "
   ]
  },
  {
   "cell_type": "code",
   "execution_count": null,
   "id": "7b839e50",
   "metadata": {},
   "outputs": [],
   "source": [
    "#7) Write a Python program that accepts a string and calculate the number of digits and letters\n",
    "Example:\n",
    "Input\n",
    "Python 3.2\n",
    "Output\n",
    "Letters 6\n",
    "Digits 2"
   ]
  },
  {
   "cell_type": "code",
   "execution_count": 23,
   "id": "f8096b0e",
   "metadata": {},
   "outputs": [
    {
     "name": "stdout",
     "output_type": "stream",
     "text": [
      "letters: 6\n",
      "digits: 2\n"
     ]
    }
   ],
   "source": [
    "st=\"python3.2\"\n",
    "d=0\n",
    "l=0\n",
    "for i in st:\n",
    "    if i.isalpha():\n",
    "        l=l+1\n",
    "    elif i.isdigit():\n",
    "        d=d+1\n",
    "print(\"letters:\",l)\n",
    "print(\"digits:\",d)\n",
    "    "
   ]
  },
  {
   "cell_type": "code",
   "execution_count": null,
   "id": "087ed192",
   "metadata": {},
   "outputs": [],
   "source": [
    "#8) Write a Python program to check the validity of password input by users.\n",
    "Validation:\n",
    "At least 1 letter between [a-z] and 1 letter between [A-Z].\n",
    "\n",
    "At least 1 number between [0-9].\n",
    "At least 1 character from [$#@].\n",
    "Minimum length 6 characters.\n",
    "Maximum length 16 characters."
   ]
  },
  {
   "cell_type": "code",
   "execution_count": 37,
   "id": "25c21a01",
   "metadata": {},
   "outputs": [
    {
     "name": "stdout",
     "output_type": "stream",
     "text": [
      "Bobby@22\n",
      "password is valid\n"
     ]
    }
   ],
   "source": [
    "pd=input()\n",
    "sa=0\n",
    "SA=0\n",
    "d=0\n",
    "spe=0\n",
    "spec=[\"@\",\"&\",\"!\"]\n",
    "for i in pd:\n",
    "    if i.isalpha():\n",
    "        if i==i.upper():\n",
    "            SA=SA+1\n",
    "        elif i==i.lower():\n",
    "            sa=sa+1\n",
    "    elif i in spec:\n",
    "        spe=spe+1\n",
    "    elif int(i) in range(1,10):\n",
    "        d=d+1\n",
    "if len(pd)<6:\n",
    "    print(\"password is invalid\")\n",
    "elif len(pd)>6 and len(pd)<16:\n",
    "    print(\"password is valid\")\n",
    "elif sa==0:\n",
    "    print(\"at least use one lower case alphabet\")\n",
    "elif SA==0:\n",
    "    print(\"atleast use one uppercase alphabet\")\n",
    "elif d==0:\n",
    "    print(\"at least use one number \")\n",
    "else:\n",
    "    print(\"password should be valid\")\n",
    "            \n",
    "    "
   ]
  },
  {
   "cell_type": "code",
   "execution_count": 49,
   "id": "b34601f8",
   "metadata": {},
   "outputs": [
    {
     "name": "stdout",
     "output_type": "stream",
     "text": [
      "enter a word: data\n",
      "atad\n"
     ]
    }
   ],
   "source": [
    "#9) Write a program in Python to reverse a word by using while loop\n",
    "\n",
    "r=input(\"enter a word: \")\n",
    "l=len(r)\n",
    "rev=\"\"\n",
    "while l>0:\n",
    "    rev=rev+r[l-1]\n",
    "    l=l-1\n",
    "print(rev)"
   ]
  },
  {
   "cell_type": "code",
   "execution_count": 53,
   "id": "81decc23",
   "metadata": {},
   "outputs": [
    {
     "name": "stdout",
     "output_type": "stream",
     "text": [
      "enter a number10\n",
      "5.5\n"
     ]
    }
   ],
   "source": [
    "#10) Write a program which takes 10 integers as input using loop and print their average value on the screen\n",
    "\n",
    "num=int(input(\"enter a number\"))\n",
    "sum=0\n",
    "for i in range(1,11):\n",
    "    sum=sum+i\n",
    "    avrg=sum/num\n",
    "print(avrg)\n",
    "    "
   ]
  },
  {
   "cell_type": "code",
   "execution_count": 2,
   "id": "2f0e59b6",
   "metadata": {},
   "outputs": [
    {
     "name": "stdout",
     "output_type": "stream",
     "text": [
      "enter the number or q to quit : 4\n",
      "enter the number or q to quit : 5\n",
      "enter the number or q to quit : q\n",
      "The average of all numbers :  4\n",
      "The product of all numbers :  20\n"
     ]
    }
   ],
   "source": [
    "#11) Write a program which takes integer inputs from user until he/she presses “q” (Ask to press q to quit after every integer input)\n",
    "#. Print average and product of all numbers.\n",
    "\n",
    "sum1=0\n",
    "c=0\n",
    "prod=1\n",
    "while True:\n",
    "    num=input(\"enter the number or q to quit : \")\n",
    "    if num==\"q\":\n",
    "        break\n",
    "    sum1+=int(num)\n",
    "    c+=1\n",
    "    prod*=int(num)\n",
    "print(\"The average of all numbers : \",sum1//c)\n",
    "print(\"The product of all numbers : \",prod)\n",
    "    \n",
    "\n"
   ]
  },
  {
   "cell_type": "code",
   "execution_count": 3,
   "id": "eb5841bc",
   "metadata": {},
   "outputs": [
    {
     "name": "stdout",
     "output_type": "stream",
     "text": [
      "enter the string :  asd12.asd22\n",
      "asdasd"
     ]
    }
   ],
   "source": [
    "#12) Write a Python program which will remove all digits or any other characters from the string except alphabets\n",
    "s1=input('enter the string : ')\n",
    "for i in s1:\n",
    "    if i.isalpha():\n",
    "        print(i,end=\"\")\n"
   ]
  },
  {
   "cell_type": "code",
   "execution_count": 4,
   "id": "bafa64fe",
   "metadata": {},
   "outputs": [
    {
     "name": "stdout",
     "output_type": "stream",
     "text": [
      "Th sum of all even numbers from 0 t0 10 is : 30\n"
     ]
    }
   ],
   "source": [
    "#13.Write a python program to find the sum of all even numbers from 0 to 10\n",
    "sum=0\n",
    "for i in range(0,11):\n",
    "    if i%2==0:\n",
    "        sum+=i\n",
    "print(\"Th sum of all even numbers from 0 t0 10 is :\",sum)\n"
   ]
  },
  {
   "cell_type": "code",
   "execution_count": 6,
   "id": "9cd16107",
   "metadata": {},
   "outputs": [
    {
     "name": "stdout",
     "output_type": "stream",
     "text": [
      "enter the number : 6\n",
      "5\n",
      "4\n",
      "3\n",
      "2\n",
      "1\n",
      "0\n"
     ]
    }
   ],
   "source": [
    "#14.Write a python program which will accept a digit and print All the numbers before it till 0\n",
    "a=int(input(\"enter the number : \"))\n",
    "for i in range(0,a):\n",
    "    print(a-i-1)\n",
    "    \n",
    "    "
   ]
  },
  {
   "cell_type": "code",
   "execution_count": 8,
   "id": "07681bd3",
   "metadata": {},
   "outputs": [
    {
     "name": "stdout",
     "output_type": "stream",
     "text": [
      "eneter first value :2\n",
      "enter second value :4\n",
      "type any of this [+, -, *, /, %, **,c] *\n",
      "the product of two numbers is : 8\n",
      "eneter first value :2\n",
      "enter second value :4\n",
      "type any of this [+, -, *, /, %, **,c] +\n",
      "The addition of two numbers is : 6\n",
      "eneter first value :1\n",
      "enter second value :3\n",
      "type any of this [+, -, *, /, %, **,c] c\n"
     ]
    }
   ],
   "source": [
    "#15.Create a dynamic calculator which will run continually till you press “c”\n",
    "while True:\n",
    "    num1=int(input(\"eneter first value :\"))\n",
    "    num2=int(input(\"enter second value :\"))\n",
    "    \n",
    "    choice=input(\"type any of this [+, -, *, /, %, **,c] \")\n",
    "    if choice==\"+\":\n",
    "        print(\"The addition of two numbers is :\",num1+num2)\n",
    "    elif choice==\"-\":\n",
    "        print(\"the substraction of two numbers is :\",num1-num2)\n",
    "    elif choice==\"*\":\n",
    "        print(\"the product of two numbers is :\",num1*num2)\n",
    "    elif choice==\"%\":\n",
    "        print(\"the  floor division of two numbers is\",num1%num2)\n",
    "    elif choice==\"/\":\n",
    "        print(\"the floor division of twi numbers is \",num1/num2)\n",
    "    elif choice==\"**\":\n",
    "        print(\"the power of two numbers is\",num1**num2)\n",
    "    elif choice==\"c\":\n",
    "        break"
   ]
  },
  {
   "cell_type": "code",
   "execution_count": null,
   "id": "e1bb9dd2",
   "metadata": {},
   "outputs": [],
   "source": []
  }
 ],
 "metadata": {
  "kernelspec": {
   "display_name": "Python 3 (ipykernel)",
   "language": "python",
   "name": "python3"
  },
  "language_info": {
   "codemirror_mode": {
    "name": "ipython",
    "version": 3
   },
   "file_extension": ".py",
   "mimetype": "text/x-python",
   "name": "python",
   "nbconvert_exporter": "python",
   "pygments_lexer": "ipython3",
   "version": "3.9.13"
  }
 },
 "nbformat": 4,
 "nbformat_minor": 5
}
