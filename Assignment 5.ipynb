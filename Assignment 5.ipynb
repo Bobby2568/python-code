{
 "cells": [
  {
   "cell_type": "code",
   "execution_count": 12,
   "id": "8bb948de",
   "metadata": {},
   "outputs": [
    {
     "data": {
      "text/plain": [
       "45"
      ]
     },
     "execution_count": 12,
     "metadata": {},
     "output_type": "execute_result"
    }
   ],
   "source": [
    "#1. Define a function which will return Max of three numbers \n",
    "def f1(x,y,z):\n",
    "    if x>y and x>z:\n",
    "        return x\n",
    "    elif y>x and y>z:\n",
    "        return y\n",
    "    else:\n",
    "        return z\n",
    "f1(23,45,44)"
   ]
  },
  {
   "cell_type": "code",
   "execution_count": 21,
   "id": "6c470e5f",
   "metadata": {},
   "outputs": [
    {
     "name": "stdout",
     "output_type": "stream",
     "text": [
      "enter a string:abcd\n",
      "reverse string: dcba\n"
     ]
    }
   ],
   "source": [
    "#2. Define a Python Function to reverse a string.\n",
    "def f(x):\n",
    "    s1=x[::-1]\n",
    "    return s1\n",
    "x=input(\"enter a string:\")  \n",
    "print(\"reverse string: {}\".format(f(\"abcd\")))"
   ]
  },
  {
   "cell_type": "code",
   "execution_count": 26,
   "id": "60f12686",
   "metadata": {},
   "outputs": [
    {
     "data": {
      "text/plain": [
       "'dcba'"
      ]
     },
     "execution_count": 26,
     "metadata": {},
     "output_type": "execute_result"
    }
   ],
   "source": [
    "#method 2\n",
    "def f1(x):\n",
    "    rev=\"\"\n",
    "    b=len(x)-1\n",
    "    while b>=0:\n",
    "        rev=rev+x[b]\n",
    "        b=b-1\n",
    "    return rev\n",
    "f1(\"abcd\")"
   ]
  },
  {
   "cell_type": "code",
   "execution_count": 2,
   "id": "7f7dcafa",
   "metadata": {},
   "outputs": [
    {
     "name": "stdout",
     "output_type": "stream",
     "text": [
      "enter the 1st num :2\n",
      "enter the 2nd num :2\n",
      "2+2=4\n",
      "2-2=0\n",
      "2*2=4\n"
     ]
    }
   ],
   "source": [
    "#3. Write a Python program to define a function that accepts 2 values\n",
    "#and return its sum, subtraction and multiplication.\n",
    "def f(a,b):\n",
    "    yield \"{}+{}={}\".format(a,b,a+b)\n",
    "    yield \"{}-{}={}\".format(a,b,a-b)\n",
    "    yield \"{}*{}={}\".format(a,b,a*b)\n",
    "a=int(input(\"enter the 1st num :\"))\n",
    "b=int(input(\"enter the 2nd num :\"))\n",
    "for i in f(a,b):\n",
    "    print(i)\n"
   ]
  },
  {
   "cell_type": "code",
   "execution_count": 4,
   "id": "ada7acb1",
   "metadata": {},
   "outputs": [
    {
     "name": "stdout",
     "output_type": "stream",
     "text": [
      "Enter the rollno :199\n"
     ]
    },
    {
     "data": {
      "text/plain": [
       "'absent'"
      ]
     },
     "execution_count": 4,
     "metadata": {},
     "output_type": "execute_result"
    }
   ],
   "source": [
    "#4. Define a function that accepts roll number and returns whether the student is present or absent\n",
    "def Info(rollno,**d):\n",
    "    for keys,values in d.items():\n",
    "        if rollno in d.values():\n",
    "            return \"Student is present\"\n",
    "        else:\n",
    "            return \"absent\"\n",
    "rollno=int(input(\"Enter the rollno :\"))\n",
    "Info(rollno,raghu=197,bobby=96,salva=80)"
   ]
  },
  {
   "cell_type": "code",
   "execution_count": 2,
   "id": "570dd9d6",
   "metadata": {},
   "outputs": [],
   "source": [
    "#5. Define a function in python that accepts n values and returns the maximum of n numbers\n",
    "\n"
   ]
  },
  {
   "cell_type": "code",
   "execution_count": 4,
   "id": "8e640b4d",
   "metadata": {},
   "outputs": [
    {
     "name": "stdout",
     "output_type": "stream",
     "text": [
      "enter the value : 100\n",
      "maximum of n numbers :  99\n"
     ]
    }
   ],
   "source": [
    "def Max(n):\n",
    "    x1=print(\"maximum of n numbers : \",max(n))\n",
    "    return x1\n",
    "n=range(int(input(\"enter the value : \")))\n",
    "Max(n)\n"
   ]
  },
  {
   "cell_type": "code",
   "execution_count": 18,
   "id": "f0aa5ab7",
   "metadata": {},
   "outputs": [
    {
     "name": "stdout",
     "output_type": "stream",
     "text": [
      "the maximum numbers are : 8\n"
     ]
    }
   ],
   "source": [
    "#method 2\n",
    "def f(*x):\n",
    "    min_=x[0]\n",
    "    max_=x[0]\n",
    "    for i in range(len(x)):\n",
    "        if x[i]>max_:\n",
    "            max_=x[i]\n",
    "    return max_\n",
    "print(\"the maximum numbers are :\",f(1,2,3,4,5,6,7,8))"
   ]
  },
  {
   "cell_type": "code",
   "execution_count": 23,
   "id": "0c58425c",
   "metadata": {},
   "outputs": [
    {
     "name": "stdout",
     "output_type": "stream",
     "text": [
      "the vowels are : 4\n",
      "The consonants are: 6\n"
     ]
    }
   ],
   "source": [
    "#6. Define a function which counts vowels and consonant in a word.\n",
    "def alpha(x,v):\n",
    "    vowels=0\n",
    "    consonants=0\n",
    "    for i in x:\n",
    "        if i not in v:\n",
    "            consonants=consonants+1\n",
    "        elif i in v:\n",
    "            vowels=vowels+1\n",
    "    print(\"the vowels are :\",vowels)\n",
    "    print(\"The consonants are:\",consonants)\n",
    "x=\"innomatics\"\n",
    "v=[\"a\",\"e\",\"i\",\"o\",\"u\"]\n",
    "alpha(x,v)"
   ]
  },
  {
   "cell_type": "code",
   "execution_count": 2,
   "id": "0b06f883",
   "metadata": {},
   "outputs": [
    {
     "data": {
      "text/plain": [
       "40320"
      ]
     },
     "execution_count": 2,
     "metadata": {},
     "output_type": "execute_result"
    }
   ],
   "source": [
    "#7. Define a function that returns Factorial of a number\n",
    "def fact(x):\n",
    "    if x==0 or x==1:\n",
    "        return 1\n",
    "    else:\n",
    "        return x*fact(x-1)\n",
    "fact(8)"
   ]
  },
  {
   "cell_type": "code",
   "execution_count": 6,
   "id": "28e70705",
   "metadata": {},
   "outputs": [
    {
     "name": "stdout",
     "output_type": "stream",
     "text": [
      "enter radius: 6\n"
     ]
    },
    {
     "data": {
      "text/plain": [
       "'area of circle: 113.14285714285714'"
      ]
     },
     "execution_count": 6,
     "metadata": {},
     "output_type": "execute_result"
    }
   ],
   "source": [
    "#8. Define a function that accepts radius and returns the area of a circle.\n",
    "def area(x):\n",
    "    Area=(22/7*x**2)\n",
    "    return \"area of circle: {}\".format(Area)\n",
    "x=int(input(\"enter radius: \"))\n",
    "area(6)"
   ]
  },
  {
   "cell_type": "code",
   "execution_count": 17,
   "id": "899df0e9",
   "metadata": {},
   "outputs": [
    {
     "name": "stdout",
     "output_type": "stream",
     "text": [
      "enter a number8\n"
     ]
    },
    {
     "data": {
      "text/plain": [
       "'8 it is not prime number'"
      ]
     },
     "execution_count": 17,
     "metadata": {},
     "output_type": "execute_result"
    }
   ],
   "source": [
    "#9. Define a function that takes a number as a parameter and check the number is prime or not.\n",
    "def p(x):\n",
    "    for i in range(2,x+1):\n",
    "        if x%i==0 :\n",
    "            return \"{} it is not prime number\".format(x)\n",
    "        else:\n",
    "            return \"{} it is a prime number\".format(x)\n",
    "x=int(input(\"enter a number\"))\n",
    "p(x)\n",
    "            "
   ]
  },
  {
   "cell_type": "code",
   "execution_count": null,
   "id": "018074a1",
   "metadata": {},
   "outputs": [],
   "source": [
    "#10. Mary wants to run a 25-mile marathon. When she attempts to sign up for the marathon, she notices the sign-up sheet doesn't\n",
    "#directly state the marathon's length. Instead, the marathon's length is listed in small, different portions. Help Mary find out how long\n",
    "#the marathon actually is. So create a function that\n",
    "#** Return True if the marathon is 25 miles long, otherwise, return False."
   ]
  },
  {
   "cell_type": "code",
   "execution_count": 19,
   "id": "01b12a74",
   "metadata": {},
   "outputs": [
    {
     "data": {
      "text/plain": [
       "'True'"
      ]
     },
     "execution_count": 19,
     "metadata": {},
     "output_type": "execute_result"
    }
   ],
   "source": [
    "def marathon_distance(list1):\n",
    "    sum=0\n",
    "    for i in range(len(list1)):\n",
    "        sum+=abs(list1[i])\n",
    "    if sum==25:\n",
    "        return \"True\"\n",
    "    else:\n",
    "        return \"False\"\n",
    "marathon_distance([-6,15,4])\n"
   ]
  },
  {
   "cell_type": "code",
   "execution_count": 20,
   "id": "d7ac9192",
   "metadata": {},
   "outputs": [
    {
     "data": {
      "text/plain": [
       "'True'"
      ]
     },
     "execution_count": 20,
     "metadata": {},
     "output_type": "execute_result"
    }
   ],
   "source": [
    "#11. Create a function that takes a number and returns True if the number is automorphic, False if it isn't.\n",
    "#** number n is automorphic if n^2 ends in n.\n",
    "\n",
    "def Automorp(n):\n",
    "    sq=n*n\n",
    "    length=len(str(n))\n",
    "    last_digit=sq%pow(10,length)\n",
    "    if last_digit==n:\n",
    "        return \"True\"\n",
    "    else:\n",
    "        return \"False\"\n",
    "Automorp(25)\n"
   ]
  },
  {
   "cell_type": "code",
   "execution_count": 21,
   "id": "c06ba5ff",
   "metadata": {},
   "outputs": [
    {
     "data": {
      "text/plain": [
       "'True'"
      ]
     },
     "execution_count": 21,
     "metadata": {},
     "output_type": "execute_result"
    }
   ],
   "source": [
    "#12) Create a function, that will take given a, b, c, and do the following: \n",
    "#Add a to itself b times and Check if the result is divisible by c. and return true if it is divisible by c or false\n",
    "def Check(a,b,c):\n",
    "    result=a*b\n",
    "    if result%c==0:\n",
    "        return \"True\"\n",
    "    else:\n",
    "        return \"False\"\n",
    "Check(1,2,2) \n"
   ]
  },
  {
   "cell_type": "code",
   "execution_count": 22,
   "id": "51565ff2",
   "metadata": {},
   "outputs": [
    {
     "name": "stdout",
     "output_type": "stream",
     "text": [
      "Make me :D\n",
      "Make me :)\n",
      "Make me :P\n"
     ]
    }
   ],
   "source": [
    "#13) Create a function that changes specific words into emoticons.\n",
    "#Given a sentence as a string, replace the words smile, grin, sad and mad with their corresponding emoticons.\n",
    "\n",
    "def Emot(x):\n",
    "    s1=x.split(\" \")\n",
    "    s2=[\"smile\",\"grin\",\"sad\",\"mad\"]\n",
    "    s3=[\":D\",\":)\",\":(\",\":P\"]\n",
    "    for i in range(len(s1)):\n",
    "        if s1[i]==\"smile\":\n",
    "            s1[i]=\":D\"\n",
    "        elif s1[i]==\"grin\":\n",
    "            s1[i]=\":(\"\n",
    "        elif s1[i]==\"sad\":\n",
    "            s1[i]=\":)\"\n",
    "        elif s1[i]==\"mad\":\n",
    "            s1[i]=\":P\"\n",
    "    return \" \".join(s1)\n",
    "        \n",
    "print(Emot(\"Make me smile\"))\n",
    "print(Emot(\"Make me sad\"))\n",
    "print(Emot(\"Make me mad\"))\n"
   ]
  },
  {
   "cell_type": "code",
   "execution_count": 23,
   "id": "b044b5c1",
   "metadata": {},
   "outputs": [
    {
     "name": "stdout",
     "output_type": "stream",
     "text": [
      "The square of numbers :[1, 4, 9, 16, 25, 36, 49, 64, 81, 100]\n",
      "The cube   of numbers :[1, 8, 27, 64, 125, 216, 343, 512, 729, 1000]\n"
     ]
    }
   ],
   "source": [
    "#14 Write a Python program to square and cube every number in a given list of integers using Lambda  \n",
    "list1=[1,2,3,4,5,6,7,8,9,10]\n",
    "b=map(lambda x:x**2,list1)\n",
    "c=map(lambda x:x**3,list1)\n",
    "print(\"The square of numbers :{}\".format(list(b)))\n",
    "print(\"The cube   of numbers :{}\".format(list(c)))\n"
   ]
  },
  {
   "cell_type": "code",
   "execution_count": 25,
   "id": "853482af",
   "metadata": {},
   "outputs": [
    {
     "data": {
      "text/plain": [
       "False"
      ]
     },
     "execution_count": 25,
     "metadata": {},
     "output_type": "execute_result"
    }
   ],
   "source": [
    "#15)Write a Python program to check whether a given string is number or not using Lambda\n",
    "x=\"innomatics\"\n",
    "b=lambda x:x.isdigit() \n",
    "b(\"123U\")\n",
    "\n"
   ]
  },
  {
   "cell_type": "code",
   "execution_count": null,
   "id": "2ea6aaf3",
   "metadata": {},
   "outputs": [],
   "source": []
  }
 ],
 "metadata": {
  "kernelspec": {
   "display_name": "Python 3 (ipykernel)",
   "language": "python",
   "name": "python3"
  },
  "language_info": {
   "codemirror_mode": {
    "name": "ipython",
    "version": 3
   },
   "file_extension": ".py",
   "mimetype": "text/x-python",
   "name": "python",
   "nbconvert_exporter": "python",
   "pygments_lexer": "ipython3",
   "version": "3.9.13"
  }
 },
 "nbformat": 4,
 "nbformat_minor": 5
}
